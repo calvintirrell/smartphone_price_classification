{
 "cells": [
  {
   "cell_type": "markdown",
   "metadata": {},
   "source": [
    "# Imports"
   ]
  },
  {
   "cell_type": "code",
   "execution_count": 1,
   "metadata": {},
   "outputs": [],
   "source": [
    "import numpy as np\n",
    "import pandas as pd\n",
    "import seaborn as sns\n",
    "import matplotlib.pyplot as plt\n",
    "\n",
    "from sklearn.svm import SVC\n",
    "from sklearn.linear_model import LinearRegression\n",
    "from sklearn.neighbors import KNeighborsClassifier\n",
    "from sklearn.linear_model import LogisticRegression\n",
    "from sklearn.ensemble import RandomForestClassifier, AdaBoostClassifier, GradientBoostingClassifier\n",
    "\n",
    "from sklearn.metrics import mean_absolute_error\n",
    "from sklearn.feature_selection import SelectKBest, chi2\n",
    "from sklearn.preprocessing import LabelEncoder, StandardScaler\n",
    "from sklearn.model_selection import train_test_split, GridSearchCV\n",
    "from sklearn.metrics import classification_report, confusion_matrix, accuracy_score, f1_score\n",
    "\n",
    "%matplotlib inline\n",
    "\n",
    "import warnings\n",
    "warnings.filterwarnings(\"ignore\")"
   ]
  },
  {
   "cell_type": "markdown",
   "metadata": {},
   "source": [
    "# Load data"
   ]
  },
  {
   "cell_type": "code",
   "execution_count": 2,
   "metadata": {},
   "outputs": [],
   "source": [
    "train_data = pd.read_csv(\"../data/train.csv\")\n",
    "test_data = pd.read_csv(\"../data/test.csv\")"
   ]
  },
  {
   "cell_type": "markdown",
   "metadata": {},
   "source": [
    "## Rename Columns"
   ]
  },
  {
   "cell_type": "code",
   "execution_count": 3,
   "metadata": {},
   "outputs": [
    {
     "data": {
      "text/plain": [
       "Index(['battery_power', 'blue', 'clock_speed', 'dual_sim', 'fc', 'four_g',\n",
       "       'int_memory', 'm_dep', 'mobile_wt', 'n_cores', 'pc', 'px_height',\n",
       "       'px_width', 'ram', 'sc_h', 'sc_w', 'talk_time', 'three_g',\n",
       "       'touch_screen', 'wifi', 'price_range'],\n",
       "      dtype='object')"
      ]
     },
     "execution_count": 3,
     "metadata": {},
     "output_type": "execute_result"
    }
   ],
   "source": [
    "train_data.columns"
   ]
  },
  {
   "cell_type": "code",
   "execution_count": 4,
   "metadata": {},
   "outputs": [],
   "source": [
    "train_data.rename(columns = {'battery_power':'battery_size',\n",
    "                       'blue':'bluetooth_capable',\n",
    "                       'clock_speed':'cpu_speed',\n",
    "                       'dual_sim':'dual_sim_capable',\n",
    "                       'fc':'front_camera_megapixels',\n",
    "                       'four_g':'4G_capable',\n",
    "                       'int_memory':'storage_space',\n",
    "                       'm_dep':'phone_depth',\n",
    "                       'mobile_wt':'phone_weight',\n",
    "                       'n_cores':'cpu_cores',\n",
    "                       'pc':'rear_camera_megapixels',\n",
    "                       'px_height':'screen_height_pixels',\n",
    "                       'px_width':'screen_width_pixels',\n",
    "                       'ram':'ram',\n",
    "                       'sc_h':'screen_height_cm',\n",
    "                       'sc_w':'screen_width_cm',\n",
    "                       'talk_time':'talk_time_hours',\n",
    "                       'three_g':'3G_capable',\n",
    "                       'touch_screen':'touch_screen',\n",
    "                       'wifi':'wifi_capable',\n",
    "                       'price_range':'price'},\n",
    "            inplace = True)"
   ]
  },
  {
   "cell_type": "code",
   "execution_count": 5,
   "metadata": {},
   "outputs": [
    {
     "data": {
      "text/plain": [
       "Index(['battery_size', 'bluetooth_capable', 'cpu_speed', 'dual_sim_capable',\n",
       "       'front_camera_megapixels', '4G_capable', 'storage_space', 'phone_depth',\n",
       "       'phone_weight', 'cpu_cores', 'rear_camera_megapixels',\n",
       "       'screen_height_pixels', 'screen_width_pixels', 'ram',\n",
       "       'screen_height_cm', 'screen_width_cm', 'talk_time_hours', '3G_capable',\n",
       "       'touch_screen', 'wifi_capable', 'price'],\n",
       "      dtype='object')"
      ]
     },
     "execution_count": 5,
     "metadata": {},
     "output_type": "execute_result"
    }
   ],
   "source": [
    "train_data.columns"
   ]
  },
  {
   "cell_type": "code",
   "execution_count": 6,
   "metadata": {},
   "outputs": [],
   "source": [
    "test_data.columns = train_data.columns"
   ]
  },
  {
   "cell_type": "code",
   "execution_count": 7,
   "metadata": {},
   "outputs": [
    {
     "data": {
      "text/plain": [
       "Index(['battery_size', 'bluetooth_capable', 'cpu_speed', 'dual_sim_capable',\n",
       "       'front_camera_megapixels', '4G_capable', 'storage_space', 'phone_depth',\n",
       "       'phone_weight', 'cpu_cores', 'rear_camera_megapixels',\n",
       "       'screen_height_pixels', 'screen_width_pixels', 'ram',\n",
       "       'screen_height_cm', 'screen_width_cm', 'talk_time_hours', '3G_capable',\n",
       "       'touch_screen', 'wifi_capable', 'price'],\n",
       "      dtype='object')"
      ]
     },
     "execution_count": 7,
     "metadata": {},
     "output_type": "execute_result"
    }
   ],
   "source": [
    "test_data.columns"
   ]
  },
  {
   "cell_type": "markdown",
   "metadata": {},
   "source": [
    "# Inspect data"
   ]
  },
  {
   "cell_type": "code",
   "execution_count": 8,
   "metadata": {},
   "outputs": [
    {
     "data": {
      "text/html": [
       "<div>\n",
       "<style scoped>\n",
       "    .dataframe tbody tr th:only-of-type {\n",
       "        vertical-align: middle;\n",
       "    }\n",
       "\n",
       "    .dataframe tbody tr th {\n",
       "        vertical-align: top;\n",
       "    }\n",
       "\n",
       "    .dataframe thead th {\n",
       "        text-align: right;\n",
       "    }\n",
       "</style>\n",
       "<table border=\"1\" class=\"dataframe\">\n",
       "  <thead>\n",
       "    <tr style=\"text-align: right;\">\n",
       "      <th></th>\n",
       "      <th>battery_size</th>\n",
       "      <th>bluetooth_capable</th>\n",
       "      <th>cpu_speed</th>\n",
       "      <th>dual_sim_capable</th>\n",
       "      <th>front_camera_megapixels</th>\n",
       "      <th>4G_capable</th>\n",
       "      <th>storage_space</th>\n",
       "      <th>phone_depth</th>\n",
       "      <th>phone_weight</th>\n",
       "      <th>cpu_cores</th>\n",
       "      <th>...</th>\n",
       "      <th>screen_height_pixels</th>\n",
       "      <th>screen_width_pixels</th>\n",
       "      <th>ram</th>\n",
       "      <th>screen_height_cm</th>\n",
       "      <th>screen_width_cm</th>\n",
       "      <th>talk_time_hours</th>\n",
       "      <th>3G_capable</th>\n",
       "      <th>touch_screen</th>\n",
       "      <th>wifi_capable</th>\n",
       "      <th>price</th>\n",
       "    </tr>\n",
       "  </thead>\n",
       "  <tbody>\n",
       "    <tr>\n",
       "      <td>0</td>\n",
       "      <td>842</td>\n",
       "      <td>0</td>\n",
       "      <td>2.2</td>\n",
       "      <td>0</td>\n",
       "      <td>1</td>\n",
       "      <td>0</td>\n",
       "      <td>7</td>\n",
       "      <td>0.6</td>\n",
       "      <td>188</td>\n",
       "      <td>2</td>\n",
       "      <td>...</td>\n",
       "      <td>20</td>\n",
       "      <td>756</td>\n",
       "      <td>2549</td>\n",
       "      <td>9</td>\n",
       "      <td>7</td>\n",
       "      <td>19</td>\n",
       "      <td>0</td>\n",
       "      <td>0</td>\n",
       "      <td>1</td>\n",
       "      <td>1</td>\n",
       "    </tr>\n",
       "    <tr>\n",
       "      <td>1</td>\n",
       "      <td>1021</td>\n",
       "      <td>1</td>\n",
       "      <td>0.5</td>\n",
       "      <td>1</td>\n",
       "      <td>0</td>\n",
       "      <td>1</td>\n",
       "      <td>53</td>\n",
       "      <td>0.7</td>\n",
       "      <td>136</td>\n",
       "      <td>3</td>\n",
       "      <td>...</td>\n",
       "      <td>905</td>\n",
       "      <td>1988</td>\n",
       "      <td>2631</td>\n",
       "      <td>17</td>\n",
       "      <td>3</td>\n",
       "      <td>7</td>\n",
       "      <td>1</td>\n",
       "      <td>1</td>\n",
       "      <td>0</td>\n",
       "      <td>2</td>\n",
       "    </tr>\n",
       "    <tr>\n",
       "      <td>2</td>\n",
       "      <td>563</td>\n",
       "      <td>1</td>\n",
       "      <td>0.5</td>\n",
       "      <td>1</td>\n",
       "      <td>2</td>\n",
       "      <td>1</td>\n",
       "      <td>41</td>\n",
       "      <td>0.9</td>\n",
       "      <td>145</td>\n",
       "      <td>5</td>\n",
       "      <td>...</td>\n",
       "      <td>1263</td>\n",
       "      <td>1716</td>\n",
       "      <td>2603</td>\n",
       "      <td>11</td>\n",
       "      <td>2</td>\n",
       "      <td>9</td>\n",
       "      <td>1</td>\n",
       "      <td>1</td>\n",
       "      <td>0</td>\n",
       "      <td>2</td>\n",
       "    </tr>\n",
       "    <tr>\n",
       "      <td>3</td>\n",
       "      <td>615</td>\n",
       "      <td>1</td>\n",
       "      <td>2.5</td>\n",
       "      <td>0</td>\n",
       "      <td>0</td>\n",
       "      <td>0</td>\n",
       "      <td>10</td>\n",
       "      <td>0.8</td>\n",
       "      <td>131</td>\n",
       "      <td>6</td>\n",
       "      <td>...</td>\n",
       "      <td>1216</td>\n",
       "      <td>1786</td>\n",
       "      <td>2769</td>\n",
       "      <td>16</td>\n",
       "      <td>8</td>\n",
       "      <td>11</td>\n",
       "      <td>1</td>\n",
       "      <td>0</td>\n",
       "      <td>0</td>\n",
       "      <td>2</td>\n",
       "    </tr>\n",
       "    <tr>\n",
       "      <td>4</td>\n",
       "      <td>1821</td>\n",
       "      <td>1</td>\n",
       "      <td>1.2</td>\n",
       "      <td>0</td>\n",
       "      <td>13</td>\n",
       "      <td>1</td>\n",
       "      <td>44</td>\n",
       "      <td>0.6</td>\n",
       "      <td>141</td>\n",
       "      <td>2</td>\n",
       "      <td>...</td>\n",
       "      <td>1208</td>\n",
       "      <td>1212</td>\n",
       "      <td>1411</td>\n",
       "      <td>8</td>\n",
       "      <td>2</td>\n",
       "      <td>15</td>\n",
       "      <td>1</td>\n",
       "      <td>1</td>\n",
       "      <td>0</td>\n",
       "      <td>1</td>\n",
       "    </tr>\n",
       "  </tbody>\n",
       "</table>\n",
       "<p>5 rows × 21 columns</p>\n",
       "</div>"
      ],
      "text/plain": [
       "   battery_size  bluetooth_capable  cpu_speed  dual_sim_capable  \\\n",
       "0           842                  0        2.2                 0   \n",
       "1          1021                  1        0.5                 1   \n",
       "2           563                  1        0.5                 1   \n",
       "3           615                  1        2.5                 0   \n",
       "4          1821                  1        1.2                 0   \n",
       "\n",
       "   front_camera_megapixels  4G_capable  storage_space  phone_depth  \\\n",
       "0                        1           0              7          0.6   \n",
       "1                        0           1             53          0.7   \n",
       "2                        2           1             41          0.9   \n",
       "3                        0           0             10          0.8   \n",
       "4                       13           1             44          0.6   \n",
       "\n",
       "   phone_weight  cpu_cores  ...  screen_height_pixels  screen_width_pixels  \\\n",
       "0           188          2  ...                    20                  756   \n",
       "1           136          3  ...                   905                 1988   \n",
       "2           145          5  ...                  1263                 1716   \n",
       "3           131          6  ...                  1216                 1786   \n",
       "4           141          2  ...                  1208                 1212   \n",
       "\n",
       "    ram  screen_height_cm  screen_width_cm  talk_time_hours  3G_capable  \\\n",
       "0  2549                 9                7               19           0   \n",
       "1  2631                17                3                7           1   \n",
       "2  2603                11                2                9           1   \n",
       "3  2769                16                8               11           1   \n",
       "4  1411                 8                2               15           1   \n",
       "\n",
       "   touch_screen  wifi_capable  price  \n",
       "0             0             1      1  \n",
       "1             1             0      2  \n",
       "2             1             0      2  \n",
       "3             0             0      2  \n",
       "4             1             0      1  \n",
       "\n",
       "[5 rows x 21 columns]"
      ]
     },
     "execution_count": 8,
     "metadata": {},
     "output_type": "execute_result"
    }
   ],
   "source": [
    "train_data.head()"
   ]
  },
  {
   "cell_type": "code",
   "execution_count": 9,
   "metadata": {},
   "outputs": [
    {
     "data": {
      "text/html": [
       "<div>\n",
       "<style scoped>\n",
       "    .dataframe tbody tr th:only-of-type {\n",
       "        vertical-align: middle;\n",
       "    }\n",
       "\n",
       "    .dataframe tbody tr th {\n",
       "        vertical-align: top;\n",
       "    }\n",
       "\n",
       "    .dataframe thead th {\n",
       "        text-align: right;\n",
       "    }\n",
       "</style>\n",
       "<table border=\"1\" class=\"dataframe\">\n",
       "  <thead>\n",
       "    <tr style=\"text-align: right;\">\n",
       "      <th></th>\n",
       "      <th>battery_size</th>\n",
       "      <th>bluetooth_capable</th>\n",
       "      <th>cpu_speed</th>\n",
       "      <th>dual_sim_capable</th>\n",
       "      <th>front_camera_megapixels</th>\n",
       "      <th>4G_capable</th>\n",
       "      <th>storage_space</th>\n",
       "      <th>phone_depth</th>\n",
       "      <th>phone_weight</th>\n",
       "      <th>cpu_cores</th>\n",
       "      <th>...</th>\n",
       "      <th>screen_height_pixels</th>\n",
       "      <th>screen_width_pixels</th>\n",
       "      <th>ram</th>\n",
       "      <th>screen_height_cm</th>\n",
       "      <th>screen_width_cm</th>\n",
       "      <th>talk_time_hours</th>\n",
       "      <th>3G_capable</th>\n",
       "      <th>touch_screen</th>\n",
       "      <th>wifi_capable</th>\n",
       "      <th>price</th>\n",
       "    </tr>\n",
       "  </thead>\n",
       "  <tbody>\n",
       "    <tr>\n",
       "      <td>0</td>\n",
       "      <td>1</td>\n",
       "      <td>1043</td>\n",
       "      <td>1</td>\n",
       "      <td>1.8</td>\n",
       "      <td>1</td>\n",
       "      <td>14</td>\n",
       "      <td>0</td>\n",
       "      <td>5</td>\n",
       "      <td>0.1</td>\n",
       "      <td>193</td>\n",
       "      <td>...</td>\n",
       "      <td>16</td>\n",
       "      <td>226</td>\n",
       "      <td>1412</td>\n",
       "      <td>3476</td>\n",
       "      <td>12</td>\n",
       "      <td>7</td>\n",
       "      <td>2</td>\n",
       "      <td>0</td>\n",
       "      <td>1</td>\n",
       "      <td>0</td>\n",
       "    </tr>\n",
       "    <tr>\n",
       "      <td>1</td>\n",
       "      <td>2</td>\n",
       "      <td>841</td>\n",
       "      <td>1</td>\n",
       "      <td>0.5</td>\n",
       "      <td>1</td>\n",
       "      <td>4</td>\n",
       "      <td>1</td>\n",
       "      <td>61</td>\n",
       "      <td>0.8</td>\n",
       "      <td>191</td>\n",
       "      <td>...</td>\n",
       "      <td>12</td>\n",
       "      <td>746</td>\n",
       "      <td>857</td>\n",
       "      <td>3895</td>\n",
       "      <td>6</td>\n",
       "      <td>0</td>\n",
       "      <td>7</td>\n",
       "      <td>1</td>\n",
       "      <td>0</td>\n",
       "      <td>0</td>\n",
       "    </tr>\n",
       "    <tr>\n",
       "      <td>2</td>\n",
       "      <td>3</td>\n",
       "      <td>1807</td>\n",
       "      <td>1</td>\n",
       "      <td>2.8</td>\n",
       "      <td>0</td>\n",
       "      <td>1</td>\n",
       "      <td>0</td>\n",
       "      <td>27</td>\n",
       "      <td>0.9</td>\n",
       "      <td>186</td>\n",
       "      <td>...</td>\n",
       "      <td>4</td>\n",
       "      <td>1270</td>\n",
       "      <td>1366</td>\n",
       "      <td>2396</td>\n",
       "      <td>17</td>\n",
       "      <td>10</td>\n",
       "      <td>10</td>\n",
       "      <td>0</td>\n",
       "      <td>1</td>\n",
       "      <td>1</td>\n",
       "    </tr>\n",
       "    <tr>\n",
       "      <td>3</td>\n",
       "      <td>4</td>\n",
       "      <td>1546</td>\n",
       "      <td>0</td>\n",
       "      <td>0.5</td>\n",
       "      <td>1</td>\n",
       "      <td>18</td>\n",
       "      <td>1</td>\n",
       "      <td>25</td>\n",
       "      <td>0.5</td>\n",
       "      <td>96</td>\n",
       "      <td>...</td>\n",
       "      <td>20</td>\n",
       "      <td>295</td>\n",
       "      <td>1752</td>\n",
       "      <td>3893</td>\n",
       "      <td>10</td>\n",
       "      <td>0</td>\n",
       "      <td>7</td>\n",
       "      <td>1</td>\n",
       "      <td>1</td>\n",
       "      <td>0</td>\n",
       "    </tr>\n",
       "    <tr>\n",
       "      <td>4</td>\n",
       "      <td>5</td>\n",
       "      <td>1434</td>\n",
       "      <td>0</td>\n",
       "      <td>1.4</td>\n",
       "      <td>0</td>\n",
       "      <td>11</td>\n",
       "      <td>1</td>\n",
       "      <td>49</td>\n",
       "      <td>0.5</td>\n",
       "      <td>108</td>\n",
       "      <td>...</td>\n",
       "      <td>18</td>\n",
       "      <td>749</td>\n",
       "      <td>810</td>\n",
       "      <td>1773</td>\n",
       "      <td>15</td>\n",
       "      <td>8</td>\n",
       "      <td>7</td>\n",
       "      <td>1</td>\n",
       "      <td>0</td>\n",
       "      <td>1</td>\n",
       "    </tr>\n",
       "  </tbody>\n",
       "</table>\n",
       "<p>5 rows × 21 columns</p>\n",
       "</div>"
      ],
      "text/plain": [
       "   battery_size  bluetooth_capable  cpu_speed  dual_sim_capable  \\\n",
       "0             1               1043          1               1.8   \n",
       "1             2                841          1               0.5   \n",
       "2             3               1807          1               2.8   \n",
       "3             4               1546          0               0.5   \n",
       "4             5               1434          0               1.4   \n",
       "\n",
       "   front_camera_megapixels  4G_capable  storage_space  phone_depth  \\\n",
       "0                        1          14              0            5   \n",
       "1                        1           4              1           61   \n",
       "2                        0           1              0           27   \n",
       "3                        1          18              1           25   \n",
       "4                        0          11              1           49   \n",
       "\n",
       "   phone_weight  cpu_cores  ...  screen_height_pixels  screen_width_pixels  \\\n",
       "0           0.1        193  ...                    16                  226   \n",
       "1           0.8        191  ...                    12                  746   \n",
       "2           0.9        186  ...                     4                 1270   \n",
       "3           0.5         96  ...                    20                  295   \n",
       "4           0.5        108  ...                    18                  749   \n",
       "\n",
       "    ram  screen_height_cm  screen_width_cm  talk_time_hours  3G_capable  \\\n",
       "0  1412              3476               12                7           2   \n",
       "1   857              3895                6                0           7   \n",
       "2  1366              2396               17               10          10   \n",
       "3  1752              3893               10                0           7   \n",
       "4   810              1773               15                8           7   \n",
       "\n",
       "   touch_screen  wifi_capable  price  \n",
       "0             0             1      0  \n",
       "1             1             0      0  \n",
       "2             0             1      1  \n",
       "3             1             1      0  \n",
       "4             1             0      1  \n",
       "\n",
       "[5 rows x 21 columns]"
      ]
     },
     "execution_count": 9,
     "metadata": {},
     "output_type": "execute_result"
    }
   ],
   "source": [
    "test_data.head()"
   ]
  },
  {
   "cell_type": "code",
   "execution_count": 10,
   "metadata": {},
   "outputs": [
    {
     "data": {
      "text/plain": [
       "(2000, 21)"
      ]
     },
     "execution_count": 10,
     "metadata": {},
     "output_type": "execute_result"
    }
   ],
   "source": [
    "train_data.shape"
   ]
  },
  {
   "cell_type": "code",
   "execution_count": 11,
   "metadata": {},
   "outputs": [
    {
     "data": {
      "text/plain": [
       "(1000, 21)"
      ]
     },
     "execution_count": 11,
     "metadata": {},
     "output_type": "execute_result"
    }
   ],
   "source": [
    "test_data.shape"
   ]
  },
  {
   "cell_type": "code",
   "execution_count": 12,
   "metadata": {},
   "outputs": [
    {
     "name": "stdout",
     "output_type": "stream",
     "text": [
      "<class 'pandas.core.frame.DataFrame'>\n",
      "RangeIndex: 2000 entries, 0 to 1999\n",
      "Data columns (total 21 columns):\n",
      "battery_size               2000 non-null int64\n",
      "bluetooth_capable          2000 non-null int64\n",
      "cpu_speed                  2000 non-null float64\n",
      "dual_sim_capable           2000 non-null int64\n",
      "front_camera_megapixels    2000 non-null int64\n",
      "4G_capable                 2000 non-null int64\n",
      "storage_space              2000 non-null int64\n",
      "phone_depth                2000 non-null float64\n",
      "phone_weight               2000 non-null int64\n",
      "cpu_cores                  2000 non-null int64\n",
      "rear_camera_megapixels     2000 non-null int64\n",
      "screen_height_pixels       2000 non-null int64\n",
      "screen_width_pixels        2000 non-null int64\n",
      "ram                        2000 non-null int64\n",
      "screen_height_cm           2000 non-null int64\n",
      "screen_width_cm            2000 non-null int64\n",
      "talk_time_hours            2000 non-null int64\n",
      "3G_capable                 2000 non-null int64\n",
      "touch_screen               2000 non-null int64\n",
      "wifi_capable               2000 non-null int64\n",
      "price                      2000 non-null int64\n",
      "dtypes: float64(2), int64(19)\n",
      "memory usage: 328.2 KB\n"
     ]
    }
   ],
   "source": [
    "train_data.info()"
   ]
  },
  {
   "cell_type": "code",
   "execution_count": 13,
   "metadata": {},
   "outputs": [
    {
     "name": "stdout",
     "output_type": "stream",
     "text": [
      "<class 'pandas.core.frame.DataFrame'>\n",
      "RangeIndex: 1000 entries, 0 to 999\n",
      "Data columns (total 21 columns):\n",
      "battery_size               1000 non-null int64\n",
      "bluetooth_capable          1000 non-null int64\n",
      "cpu_speed                  1000 non-null int64\n",
      "dual_sim_capable           1000 non-null float64\n",
      "front_camera_megapixels    1000 non-null int64\n",
      "4G_capable                 1000 non-null int64\n",
      "storage_space              1000 non-null int64\n",
      "phone_depth                1000 non-null int64\n",
      "phone_weight               1000 non-null float64\n",
      "cpu_cores                  1000 non-null int64\n",
      "rear_camera_megapixels     1000 non-null int64\n",
      "screen_height_pixels       1000 non-null int64\n",
      "screen_width_pixels        1000 non-null int64\n",
      "ram                        1000 non-null int64\n",
      "screen_height_cm           1000 non-null int64\n",
      "screen_width_cm            1000 non-null int64\n",
      "talk_time_hours            1000 non-null int64\n",
      "3G_capable                 1000 non-null int64\n",
      "touch_screen               1000 non-null int64\n",
      "wifi_capable               1000 non-null int64\n",
      "price                      1000 non-null int64\n",
      "dtypes: float64(2), int64(19)\n",
      "memory usage: 164.2 KB\n"
     ]
    }
   ],
   "source": [
    "test_data.info()"
   ]
  },
  {
   "cell_type": "code",
   "execution_count": 14,
   "metadata": {},
   "outputs": [
    {
     "data": {
      "text/html": [
       "<div>\n",
       "<style scoped>\n",
       "    .dataframe tbody tr th:only-of-type {\n",
       "        vertical-align: middle;\n",
       "    }\n",
       "\n",
       "    .dataframe tbody tr th {\n",
       "        vertical-align: top;\n",
       "    }\n",
       "\n",
       "    .dataframe thead th {\n",
       "        text-align: right;\n",
       "    }\n",
       "</style>\n",
       "<table border=\"1\" class=\"dataframe\">\n",
       "  <thead>\n",
       "    <tr style=\"text-align: right;\">\n",
       "      <th></th>\n",
       "      <th>battery_size</th>\n",
       "      <th>bluetooth_capable</th>\n",
       "      <th>cpu_speed</th>\n",
       "      <th>dual_sim_capable</th>\n",
       "      <th>front_camera_megapixels</th>\n",
       "      <th>4G_capable</th>\n",
       "      <th>storage_space</th>\n",
       "      <th>phone_depth</th>\n",
       "      <th>phone_weight</th>\n",
       "      <th>cpu_cores</th>\n",
       "      <th>...</th>\n",
       "      <th>screen_height_pixels</th>\n",
       "      <th>screen_width_pixels</th>\n",
       "      <th>ram</th>\n",
       "      <th>screen_height_cm</th>\n",
       "      <th>screen_width_cm</th>\n",
       "      <th>talk_time_hours</th>\n",
       "      <th>3G_capable</th>\n",
       "      <th>touch_screen</th>\n",
       "      <th>wifi_capable</th>\n",
       "      <th>price</th>\n",
       "    </tr>\n",
       "  </thead>\n",
       "  <tbody>\n",
       "    <tr>\n",
       "      <td>count</td>\n",
       "      <td>2000.000000</td>\n",
       "      <td>2000.0000</td>\n",
       "      <td>2000.000000</td>\n",
       "      <td>2000.000000</td>\n",
       "      <td>2000.000000</td>\n",
       "      <td>2000.000000</td>\n",
       "      <td>2000.000000</td>\n",
       "      <td>2000.000000</td>\n",
       "      <td>2000.000000</td>\n",
       "      <td>2000.000000</td>\n",
       "      <td>...</td>\n",
       "      <td>2000.000000</td>\n",
       "      <td>2000.000000</td>\n",
       "      <td>2000.000000</td>\n",
       "      <td>2000.000000</td>\n",
       "      <td>2000.000000</td>\n",
       "      <td>2000.000000</td>\n",
       "      <td>2000.000000</td>\n",
       "      <td>2000.000000</td>\n",
       "      <td>2000.000000</td>\n",
       "      <td>2000.000000</td>\n",
       "    </tr>\n",
       "    <tr>\n",
       "      <td>mean</td>\n",
       "      <td>1238.518500</td>\n",
       "      <td>0.4950</td>\n",
       "      <td>1.522250</td>\n",
       "      <td>0.509500</td>\n",
       "      <td>4.309500</td>\n",
       "      <td>0.521500</td>\n",
       "      <td>32.046500</td>\n",
       "      <td>0.501750</td>\n",
       "      <td>140.249000</td>\n",
       "      <td>4.520500</td>\n",
       "      <td>...</td>\n",
       "      <td>645.108000</td>\n",
       "      <td>1251.515500</td>\n",
       "      <td>2124.213000</td>\n",
       "      <td>12.306500</td>\n",
       "      <td>5.767000</td>\n",
       "      <td>11.011000</td>\n",
       "      <td>0.761500</td>\n",
       "      <td>0.503000</td>\n",
       "      <td>0.507000</td>\n",
       "      <td>1.500000</td>\n",
       "    </tr>\n",
       "    <tr>\n",
       "      <td>std</td>\n",
       "      <td>439.418206</td>\n",
       "      <td>0.5001</td>\n",
       "      <td>0.816004</td>\n",
       "      <td>0.500035</td>\n",
       "      <td>4.341444</td>\n",
       "      <td>0.499662</td>\n",
       "      <td>18.145715</td>\n",
       "      <td>0.288416</td>\n",
       "      <td>35.399655</td>\n",
       "      <td>2.287837</td>\n",
       "      <td>...</td>\n",
       "      <td>443.780811</td>\n",
       "      <td>432.199447</td>\n",
       "      <td>1084.732044</td>\n",
       "      <td>4.213245</td>\n",
       "      <td>4.356398</td>\n",
       "      <td>5.463955</td>\n",
       "      <td>0.426273</td>\n",
       "      <td>0.500116</td>\n",
       "      <td>0.500076</td>\n",
       "      <td>1.118314</td>\n",
       "    </tr>\n",
       "    <tr>\n",
       "      <td>min</td>\n",
       "      <td>501.000000</td>\n",
       "      <td>0.0000</td>\n",
       "      <td>0.500000</td>\n",
       "      <td>0.000000</td>\n",
       "      <td>0.000000</td>\n",
       "      <td>0.000000</td>\n",
       "      <td>2.000000</td>\n",
       "      <td>0.100000</td>\n",
       "      <td>80.000000</td>\n",
       "      <td>1.000000</td>\n",
       "      <td>...</td>\n",
       "      <td>0.000000</td>\n",
       "      <td>500.000000</td>\n",
       "      <td>256.000000</td>\n",
       "      <td>5.000000</td>\n",
       "      <td>0.000000</td>\n",
       "      <td>2.000000</td>\n",
       "      <td>0.000000</td>\n",
       "      <td>0.000000</td>\n",
       "      <td>0.000000</td>\n",
       "      <td>0.000000</td>\n",
       "    </tr>\n",
       "    <tr>\n",
       "      <td>25%</td>\n",
       "      <td>851.750000</td>\n",
       "      <td>0.0000</td>\n",
       "      <td>0.700000</td>\n",
       "      <td>0.000000</td>\n",
       "      <td>1.000000</td>\n",
       "      <td>0.000000</td>\n",
       "      <td>16.000000</td>\n",
       "      <td>0.200000</td>\n",
       "      <td>109.000000</td>\n",
       "      <td>3.000000</td>\n",
       "      <td>...</td>\n",
       "      <td>282.750000</td>\n",
       "      <td>874.750000</td>\n",
       "      <td>1207.500000</td>\n",
       "      <td>9.000000</td>\n",
       "      <td>2.000000</td>\n",
       "      <td>6.000000</td>\n",
       "      <td>1.000000</td>\n",
       "      <td>0.000000</td>\n",
       "      <td>0.000000</td>\n",
       "      <td>0.750000</td>\n",
       "    </tr>\n",
       "    <tr>\n",
       "      <td>50%</td>\n",
       "      <td>1226.000000</td>\n",
       "      <td>0.0000</td>\n",
       "      <td>1.500000</td>\n",
       "      <td>1.000000</td>\n",
       "      <td>3.000000</td>\n",
       "      <td>1.000000</td>\n",
       "      <td>32.000000</td>\n",
       "      <td>0.500000</td>\n",
       "      <td>141.000000</td>\n",
       "      <td>4.000000</td>\n",
       "      <td>...</td>\n",
       "      <td>564.000000</td>\n",
       "      <td>1247.000000</td>\n",
       "      <td>2146.500000</td>\n",
       "      <td>12.000000</td>\n",
       "      <td>5.000000</td>\n",
       "      <td>11.000000</td>\n",
       "      <td>1.000000</td>\n",
       "      <td>1.000000</td>\n",
       "      <td>1.000000</td>\n",
       "      <td>1.500000</td>\n",
       "    </tr>\n",
       "    <tr>\n",
       "      <td>75%</td>\n",
       "      <td>1615.250000</td>\n",
       "      <td>1.0000</td>\n",
       "      <td>2.200000</td>\n",
       "      <td>1.000000</td>\n",
       "      <td>7.000000</td>\n",
       "      <td>1.000000</td>\n",
       "      <td>48.000000</td>\n",
       "      <td>0.800000</td>\n",
       "      <td>170.000000</td>\n",
       "      <td>7.000000</td>\n",
       "      <td>...</td>\n",
       "      <td>947.250000</td>\n",
       "      <td>1633.000000</td>\n",
       "      <td>3064.500000</td>\n",
       "      <td>16.000000</td>\n",
       "      <td>9.000000</td>\n",
       "      <td>16.000000</td>\n",
       "      <td>1.000000</td>\n",
       "      <td>1.000000</td>\n",
       "      <td>1.000000</td>\n",
       "      <td>2.250000</td>\n",
       "    </tr>\n",
       "    <tr>\n",
       "      <td>max</td>\n",
       "      <td>1998.000000</td>\n",
       "      <td>1.0000</td>\n",
       "      <td>3.000000</td>\n",
       "      <td>1.000000</td>\n",
       "      <td>19.000000</td>\n",
       "      <td>1.000000</td>\n",
       "      <td>64.000000</td>\n",
       "      <td>1.000000</td>\n",
       "      <td>200.000000</td>\n",
       "      <td>8.000000</td>\n",
       "      <td>...</td>\n",
       "      <td>1960.000000</td>\n",
       "      <td>1998.000000</td>\n",
       "      <td>3998.000000</td>\n",
       "      <td>19.000000</td>\n",
       "      <td>18.000000</td>\n",
       "      <td>20.000000</td>\n",
       "      <td>1.000000</td>\n",
       "      <td>1.000000</td>\n",
       "      <td>1.000000</td>\n",
       "      <td>3.000000</td>\n",
       "    </tr>\n",
       "  </tbody>\n",
       "</table>\n",
       "<p>8 rows × 21 columns</p>\n",
       "</div>"
      ],
      "text/plain": [
       "       battery_size  bluetooth_capable    cpu_speed  dual_sim_capable  \\\n",
       "count   2000.000000          2000.0000  2000.000000       2000.000000   \n",
       "mean    1238.518500             0.4950     1.522250          0.509500   \n",
       "std      439.418206             0.5001     0.816004          0.500035   \n",
       "min      501.000000             0.0000     0.500000          0.000000   \n",
       "25%      851.750000             0.0000     0.700000          0.000000   \n",
       "50%     1226.000000             0.0000     1.500000          1.000000   \n",
       "75%     1615.250000             1.0000     2.200000          1.000000   \n",
       "max     1998.000000             1.0000     3.000000          1.000000   \n",
       "\n",
       "       front_camera_megapixels   4G_capable  storage_space  phone_depth  \\\n",
       "count              2000.000000  2000.000000    2000.000000  2000.000000   \n",
       "mean                  4.309500     0.521500      32.046500     0.501750   \n",
       "std                   4.341444     0.499662      18.145715     0.288416   \n",
       "min                   0.000000     0.000000       2.000000     0.100000   \n",
       "25%                   1.000000     0.000000      16.000000     0.200000   \n",
       "50%                   3.000000     1.000000      32.000000     0.500000   \n",
       "75%                   7.000000     1.000000      48.000000     0.800000   \n",
       "max                  19.000000     1.000000      64.000000     1.000000   \n",
       "\n",
       "       phone_weight    cpu_cores  ...  screen_height_pixels  \\\n",
       "count   2000.000000  2000.000000  ...           2000.000000   \n",
       "mean     140.249000     4.520500  ...            645.108000   \n",
       "std       35.399655     2.287837  ...            443.780811   \n",
       "min       80.000000     1.000000  ...              0.000000   \n",
       "25%      109.000000     3.000000  ...            282.750000   \n",
       "50%      141.000000     4.000000  ...            564.000000   \n",
       "75%      170.000000     7.000000  ...            947.250000   \n",
       "max      200.000000     8.000000  ...           1960.000000   \n",
       "\n",
       "       screen_width_pixels          ram  screen_height_cm  screen_width_cm  \\\n",
       "count          2000.000000  2000.000000       2000.000000      2000.000000   \n",
       "mean           1251.515500  2124.213000         12.306500         5.767000   \n",
       "std             432.199447  1084.732044          4.213245         4.356398   \n",
       "min             500.000000   256.000000          5.000000         0.000000   \n",
       "25%             874.750000  1207.500000          9.000000         2.000000   \n",
       "50%            1247.000000  2146.500000         12.000000         5.000000   \n",
       "75%            1633.000000  3064.500000         16.000000         9.000000   \n",
       "max            1998.000000  3998.000000         19.000000        18.000000   \n",
       "\n",
       "       talk_time_hours   3G_capable  touch_screen  wifi_capable        price  \n",
       "count      2000.000000  2000.000000   2000.000000   2000.000000  2000.000000  \n",
       "mean         11.011000     0.761500      0.503000      0.507000     1.500000  \n",
       "std           5.463955     0.426273      0.500116      0.500076     1.118314  \n",
       "min           2.000000     0.000000      0.000000      0.000000     0.000000  \n",
       "25%           6.000000     1.000000      0.000000      0.000000     0.750000  \n",
       "50%          11.000000     1.000000      1.000000      1.000000     1.500000  \n",
       "75%          16.000000     1.000000      1.000000      1.000000     2.250000  \n",
       "max          20.000000     1.000000      1.000000      1.000000     3.000000  \n",
       "\n",
       "[8 rows x 21 columns]"
      ]
     },
     "execution_count": 14,
     "metadata": {},
     "output_type": "execute_result"
    }
   ],
   "source": [
    "train_data.describe()"
   ]
  },
  {
   "cell_type": "code",
   "execution_count": 15,
   "metadata": {},
   "outputs": [
    {
     "data": {
      "text/html": [
       "<div>\n",
       "<style scoped>\n",
       "    .dataframe tbody tr th:only-of-type {\n",
       "        vertical-align: middle;\n",
       "    }\n",
       "\n",
       "    .dataframe tbody tr th {\n",
       "        vertical-align: top;\n",
       "    }\n",
       "\n",
       "    .dataframe thead th {\n",
       "        text-align: right;\n",
       "    }\n",
       "</style>\n",
       "<table border=\"1\" class=\"dataframe\">\n",
       "  <thead>\n",
       "    <tr style=\"text-align: right;\">\n",
       "      <th></th>\n",
       "      <th>battery_size</th>\n",
       "      <th>bluetooth_capable</th>\n",
       "      <th>cpu_speed</th>\n",
       "      <th>dual_sim_capable</th>\n",
       "      <th>front_camera_megapixels</th>\n",
       "      <th>4G_capable</th>\n",
       "      <th>storage_space</th>\n",
       "      <th>phone_depth</th>\n",
       "      <th>phone_weight</th>\n",
       "      <th>cpu_cores</th>\n",
       "      <th>...</th>\n",
       "      <th>screen_height_pixels</th>\n",
       "      <th>screen_width_pixels</th>\n",
       "      <th>ram</th>\n",
       "      <th>screen_height_cm</th>\n",
       "      <th>screen_width_cm</th>\n",
       "      <th>talk_time_hours</th>\n",
       "      <th>3G_capable</th>\n",
       "      <th>touch_screen</th>\n",
       "      <th>wifi_capable</th>\n",
       "      <th>price</th>\n",
       "    </tr>\n",
       "  </thead>\n",
       "  <tbody>\n",
       "    <tr>\n",
       "      <td>count</td>\n",
       "      <td>1000.000000</td>\n",
       "      <td>1000.000000</td>\n",
       "      <td>1000.000000</td>\n",
       "      <td>1000.000000</td>\n",
       "      <td>1000.000000</td>\n",
       "      <td>1000.000000</td>\n",
       "      <td>1000.000000</td>\n",
       "      <td>1000.000000</td>\n",
       "      <td>1000.000000</td>\n",
       "      <td>1000.00000</td>\n",
       "      <td>...</td>\n",
       "      <td>1000.000000</td>\n",
       "      <td>1000.000000</td>\n",
       "      <td>1000.000000</td>\n",
       "      <td>1000.000000</td>\n",
       "      <td>1000.000000</td>\n",
       "      <td>1000.000000</td>\n",
       "      <td>1000.000000</td>\n",
       "      <td>1000.000000</td>\n",
       "      <td>1000.00000</td>\n",
       "      <td>1000.000000</td>\n",
       "    </tr>\n",
       "    <tr>\n",
       "      <td>mean</td>\n",
       "      <td>500.500000</td>\n",
       "      <td>1248.510000</td>\n",
       "      <td>0.516000</td>\n",
       "      <td>1.540900</td>\n",
       "      <td>0.517000</td>\n",
       "      <td>4.593000</td>\n",
       "      <td>0.487000</td>\n",
       "      <td>33.652000</td>\n",
       "      <td>0.517500</td>\n",
       "      <td>139.51100</td>\n",
       "      <td>...</td>\n",
       "      <td>10.054000</td>\n",
       "      <td>627.121000</td>\n",
       "      <td>1239.774000</td>\n",
       "      <td>2138.998000</td>\n",
       "      <td>11.995000</td>\n",
       "      <td>5.316000</td>\n",
       "      <td>11.085000</td>\n",
       "      <td>0.756000</td>\n",
       "      <td>0.50000</td>\n",
       "      <td>0.507000</td>\n",
       "    </tr>\n",
       "    <tr>\n",
       "      <td>std</td>\n",
       "      <td>288.819436</td>\n",
       "      <td>432.458227</td>\n",
       "      <td>0.499994</td>\n",
       "      <td>0.829268</td>\n",
       "      <td>0.499961</td>\n",
       "      <td>4.463325</td>\n",
       "      <td>0.500081</td>\n",
       "      <td>18.128694</td>\n",
       "      <td>0.280861</td>\n",
       "      <td>34.85155</td>\n",
       "      <td>...</td>\n",
       "      <td>6.095099</td>\n",
       "      <td>432.929699</td>\n",
       "      <td>439.670981</td>\n",
       "      <td>1088.092278</td>\n",
       "      <td>4.320607</td>\n",
       "      <td>4.240062</td>\n",
       "      <td>5.497636</td>\n",
       "      <td>0.429708</td>\n",
       "      <td>0.50025</td>\n",
       "      <td>0.500201</td>\n",
       "    </tr>\n",
       "    <tr>\n",
       "      <td>min</td>\n",
       "      <td>1.000000</td>\n",
       "      <td>500.000000</td>\n",
       "      <td>0.000000</td>\n",
       "      <td>0.500000</td>\n",
       "      <td>0.000000</td>\n",
       "      <td>0.000000</td>\n",
       "      <td>0.000000</td>\n",
       "      <td>2.000000</td>\n",
       "      <td>0.100000</td>\n",
       "      <td>80.00000</td>\n",
       "      <td>...</td>\n",
       "      <td>0.000000</td>\n",
       "      <td>0.000000</td>\n",
       "      <td>501.000000</td>\n",
       "      <td>263.000000</td>\n",
       "      <td>5.000000</td>\n",
       "      <td>0.000000</td>\n",
       "      <td>2.000000</td>\n",
       "      <td>0.000000</td>\n",
       "      <td>0.00000</td>\n",
       "      <td>0.000000</td>\n",
       "    </tr>\n",
       "    <tr>\n",
       "      <td>25%</td>\n",
       "      <td>250.750000</td>\n",
       "      <td>895.000000</td>\n",
       "      <td>0.000000</td>\n",
       "      <td>0.700000</td>\n",
       "      <td>0.000000</td>\n",
       "      <td>1.000000</td>\n",
       "      <td>0.000000</td>\n",
       "      <td>18.000000</td>\n",
       "      <td>0.300000</td>\n",
       "      <td>109.75000</td>\n",
       "      <td>...</td>\n",
       "      <td>5.000000</td>\n",
       "      <td>263.750000</td>\n",
       "      <td>831.750000</td>\n",
       "      <td>1237.250000</td>\n",
       "      <td>8.000000</td>\n",
       "      <td>2.000000</td>\n",
       "      <td>6.750000</td>\n",
       "      <td>1.000000</td>\n",
       "      <td>0.00000</td>\n",
       "      <td>0.000000</td>\n",
       "    </tr>\n",
       "    <tr>\n",
       "      <td>50%</td>\n",
       "      <td>500.500000</td>\n",
       "      <td>1246.500000</td>\n",
       "      <td>1.000000</td>\n",
       "      <td>1.500000</td>\n",
       "      <td>1.000000</td>\n",
       "      <td>3.000000</td>\n",
       "      <td>0.000000</td>\n",
       "      <td>34.500000</td>\n",
       "      <td>0.500000</td>\n",
       "      <td>139.00000</td>\n",
       "      <td>...</td>\n",
       "      <td>10.000000</td>\n",
       "      <td>564.500000</td>\n",
       "      <td>1250.000000</td>\n",
       "      <td>2153.500000</td>\n",
       "      <td>12.000000</td>\n",
       "      <td>5.000000</td>\n",
       "      <td>11.000000</td>\n",
       "      <td>1.000000</td>\n",
       "      <td>0.50000</td>\n",
       "      <td>1.000000</td>\n",
       "    </tr>\n",
       "    <tr>\n",
       "      <td>75%</td>\n",
       "      <td>750.250000</td>\n",
       "      <td>1629.250000</td>\n",
       "      <td>1.000000</td>\n",
       "      <td>2.300000</td>\n",
       "      <td>1.000000</td>\n",
       "      <td>7.000000</td>\n",
       "      <td>1.000000</td>\n",
       "      <td>49.000000</td>\n",
       "      <td>0.800000</td>\n",
       "      <td>170.00000</td>\n",
       "      <td>...</td>\n",
       "      <td>16.000000</td>\n",
       "      <td>903.000000</td>\n",
       "      <td>1637.750000</td>\n",
       "      <td>3065.500000</td>\n",
       "      <td>16.000000</td>\n",
       "      <td>8.000000</td>\n",
       "      <td>16.000000</td>\n",
       "      <td>1.000000</td>\n",
       "      <td>1.00000</td>\n",
       "      <td>1.000000</td>\n",
       "    </tr>\n",
       "    <tr>\n",
       "      <td>max</td>\n",
       "      <td>1000.000000</td>\n",
       "      <td>1999.000000</td>\n",
       "      <td>1.000000</td>\n",
       "      <td>3.000000</td>\n",
       "      <td>1.000000</td>\n",
       "      <td>19.000000</td>\n",
       "      <td>1.000000</td>\n",
       "      <td>64.000000</td>\n",
       "      <td>1.000000</td>\n",
       "      <td>200.00000</td>\n",
       "      <td>...</td>\n",
       "      <td>20.000000</td>\n",
       "      <td>1907.000000</td>\n",
       "      <td>1998.000000</td>\n",
       "      <td>3989.000000</td>\n",
       "      <td>19.000000</td>\n",
       "      <td>18.000000</td>\n",
       "      <td>20.000000</td>\n",
       "      <td>1.000000</td>\n",
       "      <td>1.00000</td>\n",
       "      <td>1.000000</td>\n",
       "    </tr>\n",
       "  </tbody>\n",
       "</table>\n",
       "<p>8 rows × 21 columns</p>\n",
       "</div>"
      ],
      "text/plain": [
       "       battery_size  bluetooth_capable    cpu_speed  dual_sim_capable  \\\n",
       "count   1000.000000        1000.000000  1000.000000       1000.000000   \n",
       "mean     500.500000        1248.510000     0.516000          1.540900   \n",
       "std      288.819436         432.458227     0.499994          0.829268   \n",
       "min        1.000000         500.000000     0.000000          0.500000   \n",
       "25%      250.750000         895.000000     0.000000          0.700000   \n",
       "50%      500.500000        1246.500000     1.000000          1.500000   \n",
       "75%      750.250000        1629.250000     1.000000          2.300000   \n",
       "max     1000.000000        1999.000000     1.000000          3.000000   \n",
       "\n",
       "       front_camera_megapixels   4G_capable  storage_space  phone_depth  \\\n",
       "count              1000.000000  1000.000000    1000.000000  1000.000000   \n",
       "mean                  0.517000     4.593000       0.487000    33.652000   \n",
       "std                   0.499961     4.463325       0.500081    18.128694   \n",
       "min                   0.000000     0.000000       0.000000     2.000000   \n",
       "25%                   0.000000     1.000000       0.000000    18.000000   \n",
       "50%                   1.000000     3.000000       0.000000    34.500000   \n",
       "75%                   1.000000     7.000000       1.000000    49.000000   \n",
       "max                   1.000000    19.000000       1.000000    64.000000   \n",
       "\n",
       "       phone_weight   cpu_cores  ...  screen_height_pixels  \\\n",
       "count   1000.000000  1000.00000  ...           1000.000000   \n",
       "mean       0.517500   139.51100  ...             10.054000   \n",
       "std        0.280861    34.85155  ...              6.095099   \n",
       "min        0.100000    80.00000  ...              0.000000   \n",
       "25%        0.300000   109.75000  ...              5.000000   \n",
       "50%        0.500000   139.00000  ...             10.000000   \n",
       "75%        0.800000   170.00000  ...             16.000000   \n",
       "max        1.000000   200.00000  ...             20.000000   \n",
       "\n",
       "       screen_width_pixels          ram  screen_height_cm  screen_width_cm  \\\n",
       "count          1000.000000  1000.000000       1000.000000      1000.000000   \n",
       "mean            627.121000  1239.774000       2138.998000        11.995000   \n",
       "std             432.929699   439.670981       1088.092278         4.320607   \n",
       "min               0.000000   501.000000        263.000000         5.000000   \n",
       "25%             263.750000   831.750000       1237.250000         8.000000   \n",
       "50%             564.500000  1250.000000       2153.500000        12.000000   \n",
       "75%             903.000000  1637.750000       3065.500000        16.000000   \n",
       "max            1907.000000  1998.000000       3989.000000        19.000000   \n",
       "\n",
       "       talk_time_hours   3G_capable  touch_screen  wifi_capable        price  \n",
       "count      1000.000000  1000.000000   1000.000000    1000.00000  1000.000000  \n",
       "mean          5.316000    11.085000      0.756000       0.50000     0.507000  \n",
       "std           4.240062     5.497636      0.429708       0.50025     0.500201  \n",
       "min           0.000000     2.000000      0.000000       0.00000     0.000000  \n",
       "25%           2.000000     6.750000      1.000000       0.00000     0.000000  \n",
       "50%           5.000000    11.000000      1.000000       0.50000     1.000000  \n",
       "75%           8.000000    16.000000      1.000000       1.00000     1.000000  \n",
       "max          18.000000    20.000000      1.000000       1.00000     1.000000  \n",
       "\n",
       "[8 rows x 21 columns]"
      ]
     },
     "execution_count": 15,
     "metadata": {},
     "output_type": "execute_result"
    }
   ],
   "source": [
    "test_data.describe()"
   ]
  },
  {
   "cell_type": "markdown",
   "metadata": {},
   "source": [
    "## No blank/null/nan values to manage"
   ]
  },
  {
   "cell_type": "markdown",
   "metadata": {},
   "source": [
    "## No data types to change to become usable"
   ]
  },
  {
   "cell_type": "markdown",
   "metadata": {},
   "source": [
    "## Look into each column's data"
   ]
  },
  {
   "cell_type": "code",
   "execution_count": 16,
   "metadata": {},
   "outputs": [
    {
     "name": "stdout",
     "output_type": "stream",
     "text": [
      "1589    6\n",
      "618     6\n",
      "1872    6\n",
      "1379    5\n",
      "1310    5\n",
      "       ..\n",
      "1072    1\n",
      "1073    1\n",
      "1074    1\n",
      "1075    1\n",
      "1998    1\n",
      "Name: battery_size, Length: 1094, dtype: int64\n",
      "\n",
      "0    1010\n",
      "1     990\n",
      "Name: bluetooth_capable, dtype: int64\n",
      "\n",
      "0.5    413\n",
      "2.8     85\n",
      "2.3     78\n",
      "1.6     76\n",
      "2.1     76\n",
      "2.5     74\n",
      "0.6     74\n",
      "1.4     70\n",
      "1.3     68\n",
      "2.0     67\n",
      "1.5     67\n",
      "1.9     65\n",
      "0.7     64\n",
      "1.8     62\n",
      "2.9     62\n",
      "1.0     61\n",
      "1.7     60\n",
      "2.2     59\n",
      "0.8     58\n",
      "2.4     58\n",
      "0.9     58\n",
      "1.2     56\n",
      "2.7     55\n",
      "2.6     55\n",
      "1.1     51\n",
      "3.0     28\n",
      "Name: cpu_speed, dtype: int64\n",
      "\n",
      "1    1019\n",
      "0     981\n",
      "Name: dual_sim_capable, dtype: int64\n",
      "\n",
      "0     474\n",
      "1     245\n",
      "2     189\n",
      "3     170\n",
      "5     139\n",
      "4     133\n",
      "6     112\n",
      "7     100\n",
      "9      78\n",
      "8      77\n",
      "10     62\n",
      "11     51\n",
      "12     45\n",
      "13     40\n",
      "16     24\n",
      "15     23\n",
      "14     20\n",
      "18     11\n",
      "17      6\n",
      "19      1\n",
      "Name: front_camera_megapixels, dtype: int64\n",
      "\n",
      "1    1043\n",
      "0     957\n",
      "Name: 4G_capable, dtype: int64\n",
      "\n",
      "27    47\n",
      "14    45\n",
      "16    45\n",
      "2     42\n",
      "57    42\n",
      "      ..\n",
      "25    24\n",
      "38    23\n",
      "62    21\n",
      "4     20\n",
      "59    18\n",
      "Name: storage_space, Length: 63, dtype: int64\n",
      "\n",
      "0.1    320\n",
      "0.2    213\n",
      "0.8    208\n",
      "0.5    205\n",
      "0.7    200\n",
      "0.3    199\n",
      "0.9    195\n",
      "0.6    186\n",
      "0.4    168\n",
      "1.0    106\n",
      "Name: phone_depth, dtype: int64\n",
      "\n",
      "182    28\n",
      "185    27\n",
      "101    27\n",
      "146    26\n",
      "199    26\n",
      "       ..\n",
      "176    10\n",
      "96      9\n",
      "120     9\n",
      "149     9\n",
      "140     9\n",
      "Name: phone_weight, Length: 121, dtype: int64\n",
      "\n",
      "4    274\n",
      "7    259\n",
      "8    256\n",
      "2    247\n",
      "5    246\n",
      "3    246\n",
      "1    242\n",
      "6    230\n",
      "Name: cpu_cores, dtype: int64\n",
      "\n",
      "10    122\n",
      "7     119\n",
      "9     112\n",
      "20    110\n",
      "14    104\n",
      "1     104\n",
      "0     101\n",
      "2      99\n",
      "17     99\n",
      "6      95\n",
      "4      95\n",
      "3      93\n",
      "15     92\n",
      "12     90\n",
      "8      89\n",
      "16     88\n",
      "13     85\n",
      "19     83\n",
      "18     82\n",
      "11     79\n",
      "5      59\n",
      "Name: rear_camera_megapixels, dtype: int64\n",
      "\n",
      "347     7\n",
      "179     6\n",
      "371     6\n",
      "275     6\n",
      "526     5\n",
      "       ..\n",
      "1057    1\n",
      "1060    1\n",
      "520     1\n",
      "1063    1\n",
      "1960    1\n",
      "Name: screen_height_pixels, Length: 1137, dtype: int64\n",
      "\n",
      "874     7\n",
      "1247    7\n",
      "1383    6\n",
      "1469    6\n",
      "1463    6\n",
      "       ..\n",
      "1589    1\n",
      "1069    1\n",
      "1068    1\n",
      "1066    1\n",
      "1998    1\n",
      "Name: screen_width_pixels, Length: 1109, dtype: int64\n",
      "\n",
      "2610    4\n",
      "2227    4\n",
      "3142    4\n",
      "1464    4\n",
      "1229    4\n",
      "       ..\n",
      "1270    1\n",
      "3321    1\n",
      "1274    1\n",
      "2479    1\n",
      "763     1\n",
      "Name: ram, Length: 1562, dtype: int64\n",
      "\n",
      "17    193\n",
      "12    157\n",
      "7     151\n",
      "16    143\n",
      "14    143\n",
      "15    135\n",
      "13    131\n",
      "11    126\n",
      "10    125\n",
      "19    124\n",
      "9     124\n",
      "18    120\n",
      "8     117\n",
      "6     114\n",
      "5      97\n",
      "Name: screen_height_cm, dtype: int64\n",
      "\n",
      "1     210\n",
      "3     199\n",
      "4     182\n",
      "0     180\n",
      "5     161\n",
      "2     156\n",
      "7     132\n",
      "6     130\n",
      "8     125\n",
      "10    107\n",
      "9      97\n",
      "11     84\n",
      "12     68\n",
      "13     49\n",
      "14     33\n",
      "15     31\n",
      "16     29\n",
      "17     19\n",
      "18      8\n",
      "Name: screen_width_cm, dtype: int64\n",
      "\n",
      "7     124\n",
      "4     123\n",
      "16    116\n",
      "15    115\n",
      "19    113\n",
      "6     111\n",
      "10    105\n",
      "8     104\n",
      "11    103\n",
      "20    102\n",
      "14    101\n",
      "9     100\n",
      "13    100\n",
      "18    100\n",
      "12     99\n",
      "2      99\n",
      "17     98\n",
      "3      94\n",
      "5      93\n",
      "Name: talk_time_hours, dtype: int64\n",
      "\n",
      "1    1523\n",
      "0     477\n",
      "Name: 3G_capable, dtype: int64\n",
      "\n",
      "1    1006\n",
      "0     994\n",
      "Name: touch_screen, dtype: int64\n",
      "\n",
      "1    1014\n",
      "0     986\n",
      "Name: wifi_capable, dtype: int64\n",
      "\n",
      "3    500\n",
      "2    500\n",
      "1    500\n",
      "0    500\n",
      "Name: price, dtype: int64\n",
      "\n"
     ]
    }
   ],
   "source": [
    "# There a few columns with data as 0 or 1\n",
    "# I'm assuming 0 is False and 1 is True\n",
    "\n",
    "for col in train_data.columns:\n",
    "    print(train_data[col].value_counts())\n",
    "    print()"
   ]
  },
  {
   "cell_type": "markdown",
   "metadata": {},
   "source": [
    "## Visuals of each column's data"
   ]
  },
  {
   "cell_type": "code",
   "execution_count": 17,
   "metadata": {},
   "outputs": [
    {
     "data": {
      "text/plain": [
       "array([[<matplotlib.axes._subplots.AxesSubplot object at 0x7feff07c20d0>,\n",
       "        <matplotlib.axes._subplots.AxesSubplot object at 0x7feff1107f90>,\n",
       "        <matplotlib.axes._subplots.AxesSubplot object at 0x7feff1149dd0>,\n",
       "        <matplotlib.axes._subplots.AxesSubplot object at 0x7feff117ca10>,\n",
       "        <matplotlib.axes._subplots.AxesSubplot object at 0x7feff11b6d90>],\n",
       "       [<matplotlib.axes._subplots.AxesSubplot object at 0x7feff11eba50>,\n",
       "        <matplotlib.axes._subplots.AxesSubplot object at 0x7feff122aed0>,\n",
       "        <matplotlib.axes._subplots.AxesSubplot object at 0x7feff1260a90>,\n",
       "        <matplotlib.axes._subplots.AxesSubplot object at 0x7feff126b610>,\n",
       "        <matplotlib.axes._subplots.AxesSubplot object at 0x7feff129ef90>],\n",
       "       [<matplotlib.axes._subplots.AxesSubplot object at 0x7feff1447e50>,\n",
       "        <matplotlib.axes._subplots.AxesSubplot object at 0x7feff147bb10>,\n",
       "        <matplotlib.axes._subplots.AxesSubplot object at 0x7feff14bae90>,\n",
       "        <matplotlib.axes._subplots.AxesSubplot object at 0x7feff14f0b50>,\n",
       "        <matplotlib.axes._subplots.AxesSubplot object at 0x7feff152ecd0>],\n",
       "       [<matplotlib.axes._subplots.AxesSubplot object at 0x7feff1566990>,\n",
       "        <matplotlib.axes._subplots.AxesSubplot object at 0x7feff15a2d10>,\n",
       "        <matplotlib.axes._subplots.AxesSubplot object at 0x7feff15d99d0>,\n",
       "        <matplotlib.axes._subplots.AxesSubplot object at 0x7feff1616d50>,\n",
       "        <matplotlib.axes._subplots.AxesSubplot object at 0x7feff164da10>],\n",
       "       [<matplotlib.axes._subplots.AxesSubplot object at 0x7feff168cd90>,\n",
       "        <matplotlib.axes._subplots.AxesSubplot object at 0x7feff16c2a50>,\n",
       "        <matplotlib.axes._subplots.AxesSubplot object at 0x7feff16ffdd0>,\n",
       "        <matplotlib.axes._subplots.AxesSubplot object at 0x7feff1737a90>,\n",
       "        <matplotlib.axes._subplots.AxesSubplot object at 0x7feff1774e10>]],\n",
       "      dtype=object)"
      ]
     },
     "execution_count": 17,
     "metadata": {},
     "output_type": "execute_result"
    },
    {
     "data": {
      "image/png": "[encoded data removed]",
      "text/plain": [
       "<Figure size 1080x1080 with 25 Axes>"
      ]
     },
     "metadata": {
      "needs_background": "light"
     },
     "output_type": "display_data"
    }
   ],
   "source": [
    "train_data.hist(bins=30, figsize=(15, 15))"
   ]
  },
  {
   "cell_type": "markdown",
   "metadata": {},
   "source": [
    "## Feature correlations"
   ]
  },
  {
   "cell_type": "code",
   "execution_count": 18,
   "metadata": {},
   "outputs": [
    {
     "name": "stdout",
     "output_type": "stream",
     "text": [
      "AxesSubplot(0.125,0.125;0.62x0.755)\n"
     ]
    },
    {
     "data": {
      "image/png": "[encoded data removed]",
      "text/plain": [
       "<Figure size 864x648 with 2 Axes>"
      ]
     },
     "metadata": {
      "needs_background": "light"
     },
     "output_type": "display_data"
    }
   ],
   "source": [
    "correlations = train_data.corr()\n",
    "f, ax = plt.subplots(figsize = (12, 9))\n",
    "mask = np.zeros_like(correlations, dtype = np.bool)\n",
    "mask[np.triu_indices_from(mask)] = True\n",
    "\n",
    "heatmap_one = sns.heatmap(correlations, cmap = 'Reds', mask = mask)\n",
    "print(heatmap_one)"
   ]
  },
  {
   "cell_type": "code",
   "execution_count": 19,
   "metadata": {},
   "outputs": [
    {
     "name": "stdout",
     "output_type": "stream",
     "text": [
      "AxesSubplot(0.125,0.125;0.62x0.755)\n"
     ]
    },
    {
     "data": {
      "image/png": "[encoded data removed]",
      "text/plain": [
       "<Figure size 864x648 with 2 Axes>"
      ]
     },
     "metadata": {
      "needs_background": "light"
     },
     "output_type": "display_data"
    }
   ],
   "source": [
    "correlations = test_data.corr()\n",
    "f, ax = plt.subplots(figsize = (12, 9))\n",
    "\n",
    "mask = np.zeros_like(correlations, dtype = np.bool)\n",
    "mask[np.triu_indices_from(mask)] = True\n",
    "\n",
    "heatmap_two = sns.heatmap(correlations, cmap = 'Reds', mask = mask)\n",
    "print(heatmap_two)"
   ]
  },
  {
   "cell_type": "code",
   "execution_count": 20,
   "metadata": {},
   "outputs": [
    {
     "data": {
      "text/html": [
       "<div>\n",
       "<style scoped>\n",
       "    .dataframe tbody tr th:only-of-type {\n",
       "        vertical-align: middle;\n",
       "    }\n",
       "\n",
       "    .dataframe tbody tr th {\n",
       "        vertical-align: top;\n",
       "    }\n",
       "\n",
       "    .dataframe thead th {\n",
       "        text-align: right;\n",
       "    }\n",
       "</style>\n",
       "<table border=\"1\" class=\"dataframe\">\n",
       "  <thead>\n",
       "    <tr style=\"text-align: right;\">\n",
       "      <th></th>\n",
       "      <th>price</th>\n",
       "    </tr>\n",
       "  </thead>\n",
       "  <tbody>\n",
       "    <tr>\n",
       "      <td>price</td>\n",
       "      <td>1.000000</td>\n",
       "    </tr>\n",
       "    <tr>\n",
       "      <td>ram</td>\n",
       "      <td>0.917046</td>\n",
       "    </tr>\n",
       "    <tr>\n",
       "      <td>battery_size</td>\n",
       "      <td>0.200723</td>\n",
       "    </tr>\n",
       "    <tr>\n",
       "      <td>screen_width_pixels</td>\n",
       "      <td>0.165818</td>\n",
       "    </tr>\n",
       "    <tr>\n",
       "      <td>screen_height_pixels</td>\n",
       "      <td>0.148858</td>\n",
       "    </tr>\n",
       "    <tr>\n",
       "      <td>storage_space</td>\n",
       "      <td>0.044435</td>\n",
       "    </tr>\n",
       "    <tr>\n",
       "      <td>screen_width_cm</td>\n",
       "      <td>0.038711</td>\n",
       "    </tr>\n",
       "    <tr>\n",
       "      <td>rear_camera_megapixels</td>\n",
       "      <td>0.033599</td>\n",
       "    </tr>\n",
       "    <tr>\n",
       "      <td>3G_capable</td>\n",
       "      <td>0.023611</td>\n",
       "    </tr>\n",
       "    <tr>\n",
       "      <td>screen_height_cm</td>\n",
       "      <td>0.022986</td>\n",
       "    </tr>\n",
       "    <tr>\n",
       "      <td>front_camera_megapixels</td>\n",
       "      <td>0.021998</td>\n",
       "    </tr>\n",
       "    <tr>\n",
       "      <td>talk_time_hours</td>\n",
       "      <td>0.021859</td>\n",
       "    </tr>\n",
       "    <tr>\n",
       "      <td>bluetooth_capable</td>\n",
       "      <td>0.020573</td>\n",
       "    </tr>\n",
       "    <tr>\n",
       "      <td>wifi_capable</td>\n",
       "      <td>0.018785</td>\n",
       "    </tr>\n",
       "    <tr>\n",
       "      <td>dual_sim_capable</td>\n",
       "      <td>0.017444</td>\n",
       "    </tr>\n",
       "    <tr>\n",
       "      <td>4G_capable</td>\n",
       "      <td>0.014772</td>\n",
       "    </tr>\n",
       "    <tr>\n",
       "      <td>cpu_cores</td>\n",
       "      <td>0.004399</td>\n",
       "    </tr>\n",
       "    <tr>\n",
       "      <td>phone_depth</td>\n",
       "      <td>0.000853</td>\n",
       "    </tr>\n",
       "    <tr>\n",
       "      <td>cpu_speed</td>\n",
       "      <td>-0.006606</td>\n",
       "    </tr>\n",
       "    <tr>\n",
       "      <td>phone_weight</td>\n",
       "      <td>-0.030302</td>\n",
       "    </tr>\n",
       "    <tr>\n",
       "      <td>touch_screen</td>\n",
       "      <td>-0.030411</td>\n",
       "    </tr>\n",
       "  </tbody>\n",
       "</table>\n",
       "</div>"
      ],
      "text/plain": [
       "                            price\n",
       "price                    1.000000\n",
       "ram                      0.917046\n",
       "battery_size             0.200723\n",
       "screen_width_pixels      0.165818\n",
       "screen_height_pixels     0.148858\n",
       "storage_space            0.044435\n",
       "screen_width_cm          0.038711\n",
       "rear_camera_megapixels   0.033599\n",
       "3G_capable               0.023611\n",
       "screen_height_cm         0.022986\n",
       "front_camera_megapixels  0.021998\n",
       "talk_time_hours          0.021859\n",
       "bluetooth_capable        0.020573\n",
       "wifi_capable             0.018785\n",
       "dual_sim_capable         0.017444\n",
       "4G_capable               0.014772\n",
       "cpu_cores                0.004399\n",
       "phone_depth              0.000853\n",
       "cpu_speed               -0.006606\n",
       "phone_weight            -0.030302\n",
       "touch_screen            -0.030411"
      ]
     },
     "execution_count": 20,
     "metadata": {},
     "output_type": "execute_result"
    }
   ],
   "source": [
    "corr = train_data.corr()\n",
    "\n",
    "important_feature = corr['price'].sort_values(ascending = False).to_frame()\n",
    "important_feature"
   ]
  },
  {
   "cell_type": "markdown",
   "metadata": {},
   "source": [
    "## Boxplot of 'Price' vs 'Battery Size'"
   ]
  },
  {
   "cell_type": "code",
   "execution_count": 21,
   "metadata": {},
   "outputs": [
    {
     "data": {
      "text/plain": [
       "<matplotlib.axes._subplots.AxesSubplot at 0x7fefea5f8390>"
      ]
     },
     "execution_count": 21,
     "metadata": {},
     "output_type": "execute_result"
    },
    {
     "data": {
      "image/png": "[encoded data removed]",
      "text/plain": [
       "<Figure size 432x288 with 1 Axes>"
      ]
     },
     "metadata": {
      "needs_background": "light"
     },
     "output_type": "display_data"
    }
   ],
   "source": [
    "sns.boxplot(x = 'price', y = 'battery_size', data = train_data)"
   ]
  },
  {
   "cell_type": "markdown",
   "metadata": {},
   "source": [
    "## Boxplot of 'Price' vs 'Talk Time'"
   ]
  },
  {
   "cell_type": "code",
   "execution_count": 22,
   "metadata": {},
   "outputs": [
    {
     "data": {
      "text/plain": [
       "<matplotlib.axes._subplots.AxesSubplot at 0x7fefea6a8cd0>"
      ]
     },
     "execution_count": 22,
     "metadata": {},
     "output_type": "execute_result"
    },
    {
     "data": {
      "image/png": "[encoded data removed]",
      "text/plain": [
       "<Figure size 432x288 with 1 Axes>"
      ]
     },
     "metadata": {
      "needs_background": "light"
     },
     "output_type": "display_data"
    }
   ],
   "source": [
    "sns.boxplot(x = 'price', y = 'talk_time_hours', data = train_data)"
   ]
  },
  {
   "cell_type": "markdown",
   "metadata": {},
   "source": [
    "## Kernel Density plot of 'price' vs 'phone weight'"
   ]
  },
  {
   "cell_type": "code",
   "execution_count": 23,
   "metadata": {},
   "outputs": [
    {
     "data": {
      "text/plain": [
       "<seaborn.axisgrid.JointGrid at 0x7feff30ab090>"
      ]
     },
     "execution_count": 23,
     "metadata": {},
     "output_type": "execute_result"
    },
    {
     "data": {
      "image/png": "[encoded data removed]",
      "text/plain": [
       "<Figure size 432x432 with 3 Axes>"
      ]
     },
     "metadata": {
      "needs_background": "light"
     },
     "output_type": "display_data"
    }
   ],
   "source": [
    "sns.jointplot(x = 'price', y = 'phone_weight', data = train_data, kind = 'kde')"
   ]
  },
  {
   "cell_type": "markdown",
   "metadata": {},
   "source": [
    "## Kernel Density plot of 'price' vs 'ram'"
   ]
  },
  {
   "cell_type": "code",
   "execution_count": 24,
   "metadata": {},
   "outputs": [
    {
     "data": {
      "text/plain": [
       "<seaborn.axisgrid.JointGrid at 0x7feff32878d0>"
      ]
     },
     "execution_count": 24,
     "metadata": {},
     "output_type": "execute_result"
    },
    {
     "data": {
      "image/png": "[encoded data removed]",
      "text/plain": [
       "<Figure size 432x432 with 3 Axes>"
      ]
     },
     "metadata": {
      "needs_background": "light"
     },
     "output_type": "display_data"
    }
   ],
   "source": [
    "sns.jointplot(x = 'price', y = 'ram', data = train_data, kind = 'kde')"
   ]
  },
  {
   "cell_type": "markdown",
   "metadata": {},
   "source": [
    "## Countplots of the 'price' column"
   ]
  },
  {
   "cell_type": "code",
   "execution_count": 25,
   "metadata": {},
   "outputs": [
    {
     "data": {
      "text/plain": [
       "<matplotlib.axes._subplots.AxesSubplot at 0x7feff356ebd0>"
      ]
     },
     "execution_count": 25,
     "metadata": {},
     "output_type": "execute_result"
    },
    {
     "data": {
      "image/png": "[encoded data removed]",
      "text/plain": [
       "<Figure size 432x288 with 1 Axes>"
      ]
     },
     "metadata": {
      "needs_background": "light"
     },
     "output_type": "display_data"
    }
   ],
   "source": [
    "sns.countplot(data = train_data, x = 'price')"
   ]
  },
  {
   "cell_type": "code",
   "execution_count": 26,
   "metadata": {},
   "outputs": [
    {
     "data": {
      "text/plain": [
       "<matplotlib.axes._subplots.AxesSubplot at 0x7fefeadc02d0>"
      ]
     },
     "execution_count": 26,
     "metadata": {},
     "output_type": "execute_result"
    },
    {
     "data": {
      "image/png": "[encoded data removed]",
      "text/plain": [
       "<Figure size 432x288 with 1 Axes>"
      ]
     },
     "metadata": {
      "needs_background": "light"
     },
     "output_type": "display_data"
    }
   ],
   "source": [
    "sns.countplot(data = test_data, x = 'price')"
   ]
  },
  {
   "cell_type": "markdown",
   "metadata": {},
   "source": [
    "## Setting up the data x and y values"
   ]
  },
  {
   "cell_type": "code",
   "execution_count": 27,
   "metadata": {},
   "outputs": [],
   "source": [
    "X = train_data.drop('price', axis=1)\n",
    "y = train_data['price']"
   ]
  },
  {
   "cell_type": "markdown",
   "metadata": {},
   "source": [
    "## Train, test, split"
   ]
  },
  {
   "cell_type": "code",
   "execution_count": 28,
   "metadata": {},
   "outputs": [],
   "source": [
    "X_train, X_test, y_train, y_test = train_test_split(X, y, test_size=0.3, random_state=42)"
   ]
  },
  {
   "cell_type": "markdown",
   "metadata": {},
   "source": [
    "## Accuracy score, confusion matrix, classification report"
   ]
  },
  {
   "cell_type": "code",
   "execution_count": 29,
   "metadata": {},
   "outputs": [],
   "source": [
    "def print_metrics(y_test, y_pred):\n",
    "    print('Accuracy Score is:', accuracy_score(y_test, y_pred) * 100)\n",
    "    print()\n",
    "    print('Confusion matrix:')\n",
    "    print(confusion_matrix(y_test, y_pred))\n",
    "    print()\n",
    "    print('Classification report:')\n",
    "    print(classification_report(y_test, y_pred))"
   ]
  },
  {
   "cell_type": "markdown",
   "metadata": {},
   "source": [
    "## Initial modeling with various metrics"
   ]
  },
  {
   "cell_type": "markdown",
   "metadata": {},
   "source": [
    "## Visualize test and pred data"
   ]
  },
  {
   "cell_type": "code",
   "execution_count": 30,
   "metadata": {},
   "outputs": [],
   "source": [
    "# plt.scatter(y_test,y_pred)"
   ]
  },
  {
   "cell_type": "code",
   "execution_count": 31,
   "metadata": {},
   "outputs": [
    {
     "name": "stdout",
     "output_type": "stream",
     "text": [
      "Score:  0.9181733564712244\n",
      "Mean absolute error:  0.26811527178304356\n"
     ]
    },
    {
     "data": {
      "text/plain": [
       "<matplotlib.collections.PathCollection at 0x7feff358c210>"
      ]
     },
     "execution_count": 31,
     "metadata": {},
     "output_type": "execute_result"
    },
    {
     "data": {
      "image/png": "[encoded data removed]",
      "text/plain": [
       "<Figure size 432x288 with 1 Axes>"
      ]
     },
     "metadata": {
      "needs_background": "light"
     },
     "output_type": "display_data"
    }
   ],
   "source": [
    "lin_reg = LinearRegression().fit(X_train, y_train)\n",
    "lin_reg_y_pred = lin_reg.predict(X_test)\n",
    "\n",
    "# print_metrics(y_test, y_pred)\n",
    "print(\"Score: \", lin_reg.score(X_test,y_test))\n",
    "\n",
    "print(\"Mean absolute error: \", mean_absolute_error(y_test, lin_reg_y_pred))\n",
    "\n",
    "plt.scatter(y_test,lin_reg_y_pred)"
   ]
  },
  {
   "cell_type": "code",
   "execution_count": 32,
   "metadata": {},
   "outputs": [
    {
     "name": "stdout",
     "output_type": "stream",
     "text": [
      "Score:  0.7883333333333333\n",
      "Mean absolute error:  0.21333333333333335\n",
      "Accuracy Score is: 78.83333333333333\n",
      "\n",
      "Confusion matrix:\n",
      "[[143   7   1   0]\n",
      " [ 11  98  37   0]\n",
      " [  0  34  83  31]\n",
      " [  0   0   6 149]]\n",
      "\n",
      "Classification report:\n",
      "              precision    recall  f1-score   support\n",
      "\n",
      "           0       0.93      0.95      0.94       151\n",
      "           1       0.71      0.67      0.69       146\n",
      "           2       0.65      0.56      0.60       148\n",
      "           3       0.83      0.96      0.89       155\n",
      "\n",
      "    accuracy                           0.79       600\n",
      "   macro avg       0.78      0.79      0.78       600\n",
      "weighted avg       0.78      0.79      0.78       600\n",
      "\n"
     ]
    },
    {
     "data": {
      "text/plain": [
       "<matplotlib.collections.PathCollection at 0x7feff4b05590>"
      ]
     },
     "execution_count": 32,
     "metadata": {},
     "output_type": "execute_result"
    },
    {
     "data": {
      "image/png": "[encoded data removed]",
      "text/plain": [
       "<Figure size 432x288 with 1 Axes>"
      ]
     },
     "metadata": {
      "needs_background": "light"
     },
     "output_type": "display_data"
    }
   ],
   "source": [
    "log_reg = LogisticRegression(random_state = 42, solver = 'liblinear').fit(X_train, y_train)\n",
    "log_reg_y_pred = log_reg.predict(X_test)\n",
    "\n",
    "print(\"Score: \", log_reg.score(X_test,y_test))\n",
    "\n",
    "print(\"Mean absolute error: \", mean_absolute_error(y_test, log_reg_y_pred))\n",
    "\n",
    "print_metrics(y_test, log_reg_y_pred)\n",
    "\n",
    "plt.scatter(y_test,log_reg_y_pred)"
   ]
  },
  {
   "cell_type": "markdown",
   "metadata": {},
   "source": [
    "## Logistic Regression coefficients"
   ]
  },
  {
   "cell_type": "code",
   "execution_count": 33,
   "metadata": {},
   "outputs": [
    {
     "name": "stdout",
     "output_type": "stream",
     "text": [
      "Feature: battery_size, Score: -0.00300\n",
      "Feature: bluetooth_capable, Score: 0.23668\n",
      "Feature: cpu_speed, Score: 0.60488\n",
      "Feature: dual_sim_capable, Score: 0.55869\n",
      "Feature: front_camera_megapixels, Score: -0.04203\n",
      "Feature: 4G_capable, Score: 0.09150\n",
      "Feature: storage_space, Score: 0.00558\n",
      "Feature: phone_depth, Score: 0.61195\n",
      "Feature: phone_weight, Score: 0.02210\n",
      "Feature: cpu_cores, Score: 0.16572\n",
      "Feature: rear_camera_megapixels, Score: 0.05170\n",
      "Feature: screen_height_pixels, Score: -0.00244\n",
      "Feature: screen_width_pixels, Score: -0.00114\n",
      "Feature: ram, Score: -0.00640\n",
      "Feature: screen_height_cm, Score: 0.13060\n",
      "Feature: screen_width_cm, Score: -0.01131\n",
      "Feature: talk_time_hours, Score: 0.05571\n",
      "Feature: 3G_capable, Score: 0.35411\n",
      "Feature: touch_screen, Score: 0.62696\n",
      "Feature: wifi_capable, Score: 0.31180\n"
     ]
    },
    {
     "data": {
      "image/png": "[encoded data removed]",
      "text/plain": [
       "<Figure size 432x288 with 1 Axes>"
      ]
     },
     "metadata": {
      "needs_background": "light"
     },
     "output_type": "display_data"
    }
   ],
   "source": [
    "coeff = log_reg.coef_[0]\n",
    "cols = train_data.columns\n",
    "indices = np.argsort(coeff)\n",
    "\n",
    "for i, v in enumerate(coeff):\n",
    "\tprint('Feature: %s, Score: %.5f' % (cols[i], v))\n",
    "    \n",
    "plt.title('Logistic Regression Coefficients')\n",
    "plt.barh(range(len(indices)), coeff[indices], color = 'r', align = 'center')\n",
    "plt.yticks(range(len(indices)), [cols[i] for i in indices])\n",
    "plt.xlabel('Relative Importance')\n",
    "plt.show()"
   ]
  },
  {
   "cell_type": "code",
   "execution_count": 34,
   "metadata": {},
   "outputs": [
    {
     "name": "stdout",
     "output_type": "stream",
     "text": [
      "Score:  0.24333333333333335\n",
      "Mean absolute error:  1.015\n",
      "Accuracy Score is: 24.333333333333336\n",
      "\n",
      "Confusion matrix:\n",
      "[[  0 151   0   0]\n",
      " [  0 146   0   0]\n",
      " [  0 148   0   0]\n",
      " [  0 155   0   0]]\n",
      "\n",
      "Classification report:\n",
      "              precision    recall  f1-score   support\n",
      "\n",
      "           0       0.00      0.00      0.00       151\n",
      "           1       0.24      1.00      0.39       146\n",
      "           2       0.00      0.00      0.00       148\n",
      "           3       0.00      0.00      0.00       155\n",
      "\n",
      "    accuracy                           0.24       600\n",
      "   macro avg       0.06      0.25      0.10       600\n",
      "weighted avg       0.06      0.24      0.10       600\n",
      "\n"
     ]
    },
    {
     "data": {
      "text/plain": [
       "<matplotlib.collections.PathCollection at 0x7feff4c6a850>"
      ]
     },
     "execution_count": 34,
     "metadata": {},
     "output_type": "execute_result"
    },
    {
     "data": {
      "image/png": "[encoded data removed]",
      "text/plain": [
       "<Figure size 432x288 with 1 Axes>"
      ]
     },
     "metadata": {
      "needs_background": "light"
     },
     "output_type": "display_data"
    }
   ],
   "source": [
    "sc = SVC(random_state = 42).fit(X_train, y_train)\n",
    "sc_y_pred = sc.predict(X_test)\n",
    "\n",
    "print(\"Score: \", sc.score(X_test,y_test))\n",
    "\n",
    "print(\"Mean absolute error: \", mean_absolute_error(y_test, sc_y_pred))\n",
    "\n",
    "print_metrics(y_test, sc_y_pred)\n",
    "\n",
    "plt.scatter(y_test,sc_y_pred)"
   ]
  },
  {
   "cell_type": "code",
   "execution_count": 35,
   "metadata": {},
   "outputs": [
    {
     "name": "stdout",
     "output_type": "stream",
     "text": [
      "Score:  0.9183333333333333\n",
      "Mean absolute error:  0.08166666666666667\n",
      "Accuracy Score is: 91.83333333333333\n",
      "\n",
      "Confusion matrix:\n",
      "[[145   6   0   0]\n",
      " [  6 135   5   0]\n",
      " [  0  12 127   9]\n",
      " [  0   0  11 144]]\n",
      "\n",
      "Classification report:\n",
      "              precision    recall  f1-score   support\n",
      "\n",
      "           0       0.96      0.96      0.96       151\n",
      "           1       0.88      0.92      0.90       146\n",
      "           2       0.89      0.86      0.87       148\n",
      "           3       0.94      0.93      0.94       155\n",
      "\n",
      "    accuracy                           0.92       600\n",
      "   macro avg       0.92      0.92      0.92       600\n",
      "weighted avg       0.92      0.92      0.92       600\n",
      "\n"
     ]
    },
    {
     "data": {
      "text/plain": [
       "<matplotlib.collections.PathCollection at 0x7feff4dc04d0>"
      ]
     },
     "execution_count": 35,
     "metadata": {},
     "output_type": "execute_result"
    },
    {
     "data": {
      "image/png": "[encoded data removed]",
      "text/plain": [
       "<Figure size 432x288 with 1 Axes>"
      ]
     },
     "metadata": {
      "needs_background": "light"
     },
     "output_type": "display_data"
    }
   ],
   "source": [
    "knc = KNeighborsClassifier().fit(X_train, y_train)\n",
    "knc_y_pred = knc.predict(X_test)\n",
    "\n",
    "print(\"Score: \", knc.score(X_test,y_test))\n",
    "\n",
    "print(\"Mean absolute error: \", mean_absolute_error(y_test, knc_y_pred))\n",
    "\n",
    "print_metrics(y_test, knc_y_pred)\n",
    "\n",
    "plt.scatter(y_test,knc_y_pred)"
   ]
  },
  {
   "cell_type": "code",
   "execution_count": 36,
   "metadata": {},
   "outputs": [
    {
     "name": "stdout",
     "output_type": "stream",
     "text": [
      "Score:  0.8666666666666667\n",
      "Mean absolute error:  0.13333333333333333\n",
      "Accuracy Score is: 86.66666666666667\n",
      "\n",
      "Confusion matrix:\n",
      "[[144   7   0   0]\n",
      " [ 10 119  17   0]\n",
      " [  0  20 116  12]\n",
      " [  0   0  14 141]]\n",
      "\n",
      "Classification report:\n",
      "              precision    recall  f1-score   support\n",
      "\n",
      "           0       0.94      0.95      0.94       151\n",
      "           1       0.82      0.82      0.82       146\n",
      "           2       0.79      0.78      0.79       148\n",
      "           3       0.92      0.91      0.92       155\n",
      "\n",
      "    accuracy                           0.87       600\n",
      "   macro avg       0.87      0.87      0.87       600\n",
      "weighted avg       0.87      0.87      0.87       600\n",
      "\n"
     ]
    },
    {
     "data": {
      "text/plain": [
       "<matplotlib.collections.PathCollection at 0x7feff4d5eb50>"
      ]
     },
     "execution_count": 36,
     "metadata": {},
     "output_type": "execute_result"
    },
    {
     "data": {
      "image/png": "[encoded data removed]",
      "text/plain": [
       "<Figure size 432x288 with 1 Axes>"
      ]
     },
     "metadata": {
      "needs_background": "light"
     },
     "output_type": "display_data"
    }
   ],
   "source": [
    "rf = RandomForestClassifier(random_state = 42, n_estimators = 100).fit(X_train, y_train)\n",
    "rf_y_pred = rf.predict(X_test)\n",
    "\n",
    "print(\"Score: \", rf.score(X_test,y_test))\n",
    "\n",
    "print(\"Mean absolute error: \", mean_absolute_error(y_test, rf_y_pred))\n",
    "\n",
    "print_metrics(y_test, rf_y_pred)\n",
    "\n",
    "plt.scatter(y_test,rf_y_pred)"
   ]
  },
  {
   "cell_type": "code",
   "execution_count": 37,
   "metadata": {},
   "outputs": [
    {
     "name": "stdout",
     "output_type": "stream",
     "text": [
      "Score:  0.7833333333333333\n",
      "Mean absolute error:  0.21666666666666667\n",
      "Accuracy Score is: 78.33333333333333\n",
      "\n",
      "Confusion matrix:\n",
      "[[134  17   0   0]\n",
      " [ 14 114  18   0]\n",
      " [  0  22 120   6]\n",
      " [  0   0  53 102]]\n",
      "\n",
      "Classification report:\n",
      "              precision    recall  f1-score   support\n",
      "\n",
      "           0       0.91      0.89      0.90       151\n",
      "           1       0.75      0.78      0.76       146\n",
      "           2       0.63      0.81      0.71       148\n",
      "           3       0.94      0.66      0.78       155\n",
      "\n",
      "    accuracy                           0.78       600\n",
      "   macro avg       0.81      0.78      0.79       600\n",
      "weighted avg       0.81      0.78      0.79       600\n",
      "\n"
     ]
    },
    {
     "data": {
      "text/plain": [
       "<matplotlib.collections.PathCollection at 0x7feff5b1ef90>"
      ]
     },
     "execution_count": 37,
     "metadata": {},
     "output_type": "execute_result"
    },
    {
     "data": {
      "image/png": "[encoded data removed]",
      "text/plain": [
       "<Figure size 432x288 with 1 Axes>"
      ]
     },
     "metadata": {
      "needs_background": "light"
     },
     "output_type": "display_data"
    }
   ],
   "source": [
    "ada = AdaBoostClassifier(random_state = 42).fit(X_train, y_train)\n",
    "ada_y_pred = ada.predict(X_test)\n",
    "\n",
    "print(\"Score: \", ada.score(X_test,y_test))\n",
    "\n",
    "print(\"Mean absolute error: \", mean_absolute_error(y_test, ada_y_pred))\n",
    "\n",
    "print_metrics(y_test, ada_y_pred)\n",
    "\n",
    "plt.scatter(y_test,ada_y_pred)"
   ]
  },
  {
   "cell_type": "code",
   "execution_count": 38,
   "metadata": {},
   "outputs": [
    {
     "name": "stdout",
     "output_type": "stream",
     "text": [
      "Score:  0.8866666666666667\n",
      "Mean absolute error:  0.11333333333333333\n",
      "Accuracy Score is: 88.66666666666667\n",
      "\n",
      "Confusion matrix:\n",
      "[[141  10   0   0]\n",
      " [  7 129  10   0]\n",
      " [  0  13 122  13]\n",
      " [  0   0  15 140]]\n",
      "\n",
      "Classification report:\n",
      "              precision    recall  f1-score   support\n",
      "\n",
      "           0       0.95      0.93      0.94       151\n",
      "           1       0.85      0.88      0.87       146\n",
      "           2       0.83      0.82      0.83       148\n",
      "           3       0.92      0.90      0.91       155\n",
      "\n",
      "    accuracy                           0.89       600\n",
      "   macro avg       0.89      0.89      0.89       600\n",
      "weighted avg       0.89      0.89      0.89       600\n",
      "\n"
     ]
    },
    {
     "data": {
      "text/plain": [
       "<matplotlib.collections.PathCollection at 0x7feff5c4d850>"
      ]
     },
     "execution_count": 38,
     "metadata": {},
     "output_type": "execute_result"
    },
    {
     "data": {
      "image/png": "[encoded data removed]",
      "text/plain": [
       "<Figure size 432x288 with 1 Axes>"
      ]
     },
     "metadata": {
      "needs_background": "light"
     },
     "output_type": "display_data"
    }
   ],
   "source": [
    "gbc = GradientBoostingClassifier(random_state = 42).fit(X_train, y_train)\n",
    "gbc_y_pred = gbc.predict(X_test)\n",
    "\n",
    "print(\"Score: \", gbc.score(X_test,y_test))\n",
    "\n",
    "print(\"Mean absolute error: \", mean_absolute_error(y_test, gbc_y_pred))\n",
    "\n",
    "print_metrics(y_test, gbc_y_pred)\n",
    "\n",
    "plt.scatter(y_test,gbc_y_pred)"
   ]
  },
  {
   "cell_type": "markdown",
   "metadata": {},
   "source": [
    "## Function to visualize different models' feature importances"
   ]
  },
  {
   "cell_type": "code",
   "execution_count": 39,
   "metadata": {},
   "outputs": [],
   "source": [
    "def feature_imp_viz(model):\n",
    "    features = train_data.columns\n",
    "    importances = model.feature_importances_\n",
    "    indices = np.argsort(importances)\n",
    "    \n",
    "    model_name = 'model_name'\n",
    "    \n",
    "    if model == rf:\n",
    "        model_name = 'Random Forest'\n",
    "    elif model == ada:\n",
    "        model_name = 'Linear Regression'\n",
    "    else:\n",
    "        model_name = 'Gradient Boost'\n",
    "    \n",
    "    print('*' * 60)\n",
    "    \n",
    "    for i, v in enumerate(importances):\n",
    "        print('Feature: %s, Score: %.5f' % (features[i], v))\n",
    "    \n",
    "    plt.title(model_name + ' Feature Importances')\n",
    "    plt.barh(range(len(indices)), importances[indices], color = 'r', align = 'center')\n",
    "    plt.yticks(range(len(indices)), [features[i] for i in indices])\n",
    "    plt.xlabel('Relative Importance')\n",
    "    plt.show()"
   ]
  },
  {
   "cell_type": "markdown",
   "metadata": {},
   "source": [
    "## Visualize different models' feature importances"
   ]
  },
  {
   "cell_type": "code",
   "execution_count": 40,
   "metadata": {},
   "outputs": [
    {
     "name": "stdout",
     "output_type": "stream",
     "text": [
      "************************************************************\n",
      "Feature: battery_size, Score: 0.07373\n",
      "Feature: bluetooth_capable, Score: 0.00728\n",
      "Feature: cpu_speed, Score: 0.03039\n",
      "Feature: dual_sim_capable, Score: 0.00768\n",
      "Feature: front_camera_megapixels, Score: 0.02731\n",
      "Feature: 4G_capable, Score: 0.00697\n",
      "Feature: storage_space, Score: 0.04038\n",
      "Feature: phone_depth, Score: 0.02460\n",
      "Feature: phone_weight, Score: 0.04015\n",
      "Feature: cpu_cores, Score: 0.02399\n",
      "Feature: rear_camera_megapixels, Score: 0.03105\n",
      "Feature: screen_height_pixels, Score: 0.05774\n",
      "Feature: screen_width_pixels, Score: 0.05947\n",
      "Feature: ram, Score: 0.45810\n",
      "Feature: screen_height_cm, Score: 0.02948\n",
      "Feature: screen_width_cm, Score: 0.02997\n",
      "Feature: talk_time_hours, Score: 0.03085\n",
      "Feature: 3G_capable, Score: 0.00639\n",
      "Feature: touch_screen, Score: 0.00704\n",
      "Feature: wifi_capable, Score: 0.00742\n"
     ]
    },
    {
     "data": {
      "image/png": "[encoded data removed]",
      "text/plain": [
       "<Figure size 432x288 with 1 Axes>"
      ]
     },
     "metadata": {
      "needs_background": "light"
     },
     "output_type": "display_data"
    },
    {
     "name": "stdout",
     "output_type": "stream",
     "text": [
      "************************************************************\n",
      "Feature: battery_size, Score: 0.12000\n",
      "Feature: bluetooth_capable, Score: 0.00000\n",
      "Feature: cpu_speed, Score: 0.00000\n",
      "Feature: dual_sim_capable, Score: 0.00000\n",
      "Feature: front_camera_megapixels, Score: 0.00000\n",
      "Feature: 4G_capable, Score: 0.00000\n",
      "Feature: storage_space, Score: 0.00000\n",
      "Feature: phone_depth, Score: 0.02000\n",
      "Feature: phone_weight, Score: 0.02000\n",
      "Feature: cpu_cores, Score: 0.00000\n",
      "Feature: rear_camera_megapixels, Score: 0.02000\n",
      "Feature: screen_height_pixels, Score: 0.14000\n",
      "Feature: screen_width_pixels, Score: 0.08000\n",
      "Feature: ram, Score: 0.56000\n",
      "Feature: screen_height_cm, Score: 0.00000\n",
      "Feature: screen_width_cm, Score: 0.00000\n",
      "Feature: talk_time_hours, Score: 0.02000\n",
      "Feature: 3G_capable, Score: 0.00000\n",
      "Feature: touch_screen, Score: 0.00000\n",
      "Feature: wifi_capable, Score: 0.02000\n"
     ]
    },
    {
     "data": {
      "image/png": "[encoded data removed]",
      "text/plain": [
       "<Figure size 432x288 with 1 Axes>"
      ]
     },
     "metadata": {
      "needs_background": "light"
     },
     "output_type": "display_data"
    },
    {
     "name": "stdout",
     "output_type": "stream",
     "text": [
      "************************************************************\n",
      "Feature: battery_size, Score: 0.11282\n",
      "Feature: bluetooth_capable, Score: 0.00008\n",
      "Feature: cpu_speed, Score: 0.00017\n",
      "Feature: dual_sim_capable, Score: 0.00006\n",
      "Feature: front_camera_megapixels, Score: 0.00146\n",
      "Feature: 4G_capable, Score: 0.00023\n",
      "Feature: storage_space, Score: 0.00417\n",
      "Feature: phone_depth, Score: 0.00294\n",
      "Feature: phone_weight, Score: 0.00586\n",
      "Feature: cpu_cores, Score: 0.00081\n",
      "Feature: rear_camera_megapixels, Score: 0.00056\n",
      "Feature: screen_height_pixels, Score: 0.04920\n",
      "Feature: screen_width_pixels, Score: 0.02783\n",
      "Feature: ram, Score: 0.78989\n",
      "Feature: screen_height_cm, Score: 0.00100\n",
      "Feature: screen_width_cm, Score: 0.00111\n",
      "Feature: talk_time_hours, Score: 0.00092\n",
      "Feature: 3G_capable, Score: 0.00000\n",
      "Feature: touch_screen, Score: 0.00023\n",
      "Feature: wifi_capable, Score: 0.00068\n"
     ]
    },
    {
     "data": {
      "image/png": "[encoded data removed]",
      "text/plain": [
       "<Figure size 432x288 with 1 Axes>"
      ]
     },
     "metadata": {
      "needs_background": "light"
     },
     "output_type": "display_data"
    }
   ],
   "source": [
    "models = [rf, ada, gbc]\n",
    "for model in models:\n",
    "    feature_imp_viz(model)"
   ]
  },
  {
   "cell_type": "markdown",
   "metadata": {},
   "source": [
    "## Feature Importances with Chi-Squared"
   ]
  },
  {
   "cell_type": "code",
   "execution_count": 41,
   "metadata": {},
   "outputs": [
    {
     "name": "stdout",
     "output_type": "stream",
     "text": [
      "               Feature Name          Score\n",
      "13                      ram  931267.519053\n",
      "11     screen_height_pixels   17363.569536\n",
      "0              battery_size   14129.866576\n",
      "12      screen_width_pixels    9810.586750\n",
      "8              phone_weight      95.972863\n",
      "6             storage_space      89.839124\n",
      "15          screen_width_cm      16.480319\n",
      "16          talk_time_hours      13.236400\n",
      "4   front_camera_megapixels      10.135166\n",
      "14         screen_height_cm       9.614878\n",
      "10   rear_camera_megapixels       9.186054\n",
      "9                 cpu_cores       9.097556\n",
      "18             touch_screen       1.928429\n",
      "5                4G_capable       1.521572\n",
      "7               phone_depth       0.745820\n"
     ]
    }
   ],
   "source": [
    "# Apply SelectKBest class to extract all feature importances (k = 'all')\n",
    "top_features = SelectKBest(score_func = chi2, k = 'all')\n",
    "top_features.fit(X, y)\n",
    "scores = pd.DataFrame(top_features.scores_)\n",
    "columns = pd.DataFrame(X.columns)\n",
    "\n",
    "# Concat two df for better visualization \n",
    "top_scores = pd.concat([columns, scores], axis = 1)\n",
    "top_scores.columns = ['Feature Name', 'Score']\n",
    "print(top_scores.nlargest(15, 'Score'))"
   ]
  },
  {
   "cell_type": "markdown",
   "metadata": {},
   "source": [
    "## Initial round of modeling and metrics (without individual running cells)"
   ]
  },
  {
   "cell_type": "code",
   "execution_count": 64,
   "metadata": {},
   "outputs": [
    {
     "name": "stdout",
     "output_type": "stream",
     "text": [
      "============================================================\n",
      "SVC\n",
      "\n",
      "Accuracy Score: 24.333333333333336\n",
      "\n",
      "Confusion Matrix:\n",
      "[[  0 151   0   0]\n",
      " [  0 146   0   0]\n",
      " [  0 148   0   0]\n",
      " [  0 155   0   0]]\n",
      "\n",
      "AxesSubplot(0.125,0.125;0.62x0.755)\n",
      "\n",
      "Classification Report:\n",
      "              precision    recall  f1-score   support\n",
      "\n",
      "           0       0.00      0.00      0.00       151\n",
      "           1       0.24      1.00      0.39       146\n",
      "           2       0.00      0.00      0.00       148\n",
      "           3       0.00      0.00      0.00       155\n",
      "\n",
      "    accuracy                           0.24       600\n",
      "   macro avg       0.06      0.25      0.10       600\n",
      "weighted avg       0.06      0.24      0.10       600\n",
      "\n",
      "============================================================\n",
      "KNeighborsClassifier\n",
      "\n",
      "Accuracy Score: 91.83333333333333\n",
      "\n",
      "Confusion Matrix:\n",
      "[[145   6   0   0]\n",
      " [  6 135   5   0]\n",
      " [  0  12 127   9]\n",
      " [  0   0  11 144]]\n",
      "\n",
      "AxesSubplot(0.125,0.125;0.62x0.755)\n",
      "\n",
      "Classification Report:\n",
      "              precision    recall  f1-score   support\n",
      "\n",
      "           0       0.96      0.96      0.96       151\n",
      "           1       0.88      0.92      0.90       146\n",
      "           2       0.89      0.86      0.87       148\n",
      "           3       0.94      0.93      0.94       155\n",
      "\n",
      "    accuracy                           0.92       600\n",
      "   macro avg       0.92      0.92      0.92       600\n",
      "weighted avg       0.92      0.92      0.92       600\n",
      "\n",
      "============================================================\n",
      "LogisticRegression\n",
      "\n",
      "Accuracy Score: 78.83333333333333\n",
      "\n",
      "Confusion Matrix:\n",
      "[[143   7   1   0]\n",
      " [ 11  98  37   0]\n",
      " [  0  34  83  31]\n",
      " [  0   0   6 149]]\n",
      "\n",
      "AxesSubplot(0.125,0.125;0.62x0.755)\n",
      "\n",
      "Classification Report:\n",
      "              precision    recall  f1-score   support\n",
      "\n",
      "           0       0.93      0.95      0.94       151\n",
      "           1       0.71      0.67      0.69       146\n",
      "           2       0.65      0.56      0.60       148\n",
      "           3       0.83      0.96      0.89       155\n",
      "\n",
      "    accuracy                           0.79       600\n",
      "   macro avg       0.78      0.79      0.78       600\n",
      "weighted avg       0.78      0.79      0.78       600\n",
      "\n",
      "============================================================\n",
      "RandomForestClassifier\n",
      "\n",
      "Accuracy Score: 86.66666666666667\n",
      "\n",
      "Confusion Matrix:\n",
      "[[144   7   0   0]\n",
      " [ 10 119  17   0]\n",
      " [  0  20 116  12]\n",
      " [  0   0  14 141]]\n",
      "\n",
      "AxesSubplot(0.125,0.125;0.62x0.755)\n",
      "\n",
      "Classification Report:\n",
      "              precision    recall  f1-score   support\n",
      "\n",
      "           0       0.94      0.95      0.94       151\n",
      "           1       0.82      0.82      0.82       146\n",
      "           2       0.79      0.78      0.79       148\n",
      "           3       0.92      0.91      0.92       155\n",
      "\n",
      "    accuracy                           0.87       600\n",
      "   macro avg       0.87      0.87      0.87       600\n",
      "weighted avg       0.87      0.87      0.87       600\n",
      "\n",
      "============================================================\n",
      "AdaBoostClassifier\n",
      "\n",
      "Accuracy Score: 78.33333333333333\n",
      "\n",
      "Confusion Matrix:\n",
      "[[134  17   0   0]\n",
      " [ 14 114  18   0]\n",
      " [  0  22 120   6]\n",
      " [  0   0  53 102]]\n",
      "\n",
      "AxesSubplot(0.125,0.125;0.62x0.755)\n",
      "\n",
      "Classification Report:\n",
      "              precision    recall  f1-score   support\n",
      "\n",
      "           0       0.91      0.89      0.90       151\n",
      "           1       0.75      0.78      0.76       146\n",
      "           2       0.63      0.81      0.71       148\n",
      "           3       0.94      0.66      0.78       155\n",
      "\n",
      "    accuracy                           0.78       600\n",
      "   macro avg       0.81      0.78      0.79       600\n",
      "weighted avg       0.81      0.78      0.79       600\n",
      "\n",
      "============================================================\n",
      "GradientBoostingClassifier\n",
      "\n",
      "Accuracy Score: 88.66666666666667\n",
      "\n",
      "Confusion Matrix:\n",
      "[[141  10   0   0]\n",
      " [  7 129  10   0]\n",
      " [  0  13 122  13]\n",
      " [  0   0  15 140]]\n",
      "\n",
      "AxesSubplot(0.125,0.125;0.62x0.755)\n",
      "\n",
      "Classification Report:\n",
      "              precision    recall  f1-score   support\n",
      "\n",
      "           0       0.95      0.93      0.94       151\n",
      "           1       0.85      0.88      0.87       146\n",
      "           2       0.83      0.82      0.83       148\n",
      "           3       0.92      0.90      0.91       155\n",
      "\n",
      "    accuracy                           0.89       600\n",
      "   macro avg       0.89      0.89      0.89       600\n",
      "weighted avg       0.89      0.89      0.89       600\n",
      "\n"
     ]
    },
    {
     "data": {
      "image/png": "[encoded data removed]",
      "text/plain": [
       "<Figure size 864x648 with 2 Axes>"
      ]
     },
     "metadata": {
      "needs_background": "light"
     },
     "output_type": "display_data"
    },
    {
     "data": {
      "image/png": "[encoded data removed]",
      "text/plain": [
       "<Figure size 864x648 with 2 Axes>"
      ]
     },
     "metadata": {
      "needs_background": "light"
     },
     "output_type": "display_data"
    },
    {
     "data": {
      "image/png": "[encoded data removed]",
      "text/plain": [
       "<Figure size 864x648 with 2 Axes>"
      ]
     },
     "metadata": {
      "needs_background": "light"
     },
     "output_type": "display_data"
    },
    {
     "data": {
      "image/png": "[encoded data removed]",
      "text/plain": [
       "<Figure size 864x648 with 2 Axes>"
      ]
     },
     "metadata": {
      "needs_background": "light"
     },
     "output_type": "display_data"
    },
    {
     "data": {
      "image/png": "[encoded data removed]",
      "text/plain": [
       "<Figure size 864x648 with 2 Axes>"
      ]
     },
     "metadata": {
      "needs_background": "light"
     },
     "output_type": "display_data"
    },
    {
     "data": {
      "image/png": "[encoded data removed]",
      "text/plain": [
       "<Figure size 864x648 with 2 Axes>"
      ]
     },
     "metadata": {
      "needs_background": "light"
     },
     "output_type": "display_data"
    }
   ],
   "source": [
    "# Testing these models with default settings and printing out various metrics/results for each\n",
    "# SVC, KNeighborsClassifier, LogisticRegression, RandomForestClassifier, AdaBoostClassifier, GradientBoostingClassifier\n",
    "\n",
    "classifiers = [SVC(random_state = 42),\n",
    "               KNeighborsClassifier(),\n",
    "               LogisticRegression(random_state = 42, solver = 'liblinear'),\n",
    "               RandomForestClassifier(random_state = 42, n_estimators = 100),\n",
    "               AdaBoostClassifier(random_state = 42),\n",
    "               GradientBoostingClassifier(random_state = 42)]\n",
    "\n",
    "for clfs in classifiers:\n",
    "    clfs.fit(X_train, y_train)\n",
    "    name = clfs.__class__.__name__\n",
    "    y_pred = clfs.predict(X_test)\n",
    "    print(\"=\" * 60)\n",
    "    print(name)\n",
    "    print()\n",
    "    print('Accuracy Score:', accuracy_score(y_test, y_pred) * 100)\n",
    "    print()\n",
    "    print('Confusion Matrix:')\n",
    "    conf_matrix = confusion_matrix(y_test, y_pred)\n",
    "    print(conf_matrix)\n",
    "    print()\n",
    "\n",
    "    # visuals of the confusion matrices shown as heatmaps\n",
    "    f, ax = plt.subplots(figsize = (12, 9))\n",
    "\n",
    "    mask = np.zeros_like(conf_matrix, dtype = np.bool)\n",
    "    mask[np.triu_indices_from(mask)] = True\n",
    "\n",
    "    heatmaps = sns.heatmap(conf_matrix, mask = mask)\n",
    "    print(heatmaps)\n",
    "\n",
    "    print()\n",
    "    print('Classification Report:')\n",
    "    print(classification_report(y_test, y_pred))"
   ]
  },
  {
   "cell_type": "markdown",
   "metadata": {},
   "source": [
    "## Top 3 Models"
   ]
  },
  {
   "cell_type": "code",
   "execution_count": 43,
   "metadata": {},
   "outputs": [
    {
     "name": "stdout",
     "output_type": "stream",
     "text": [
      "============================================================\n",
      "KNeighborsClassifier\n",
      "\n",
      "Accuracy Score: 91.83333333333333\n",
      "\n",
      "Confusion Matrix:\n",
      "[[145   6   0   0]\n",
      " [  6 135   5   0]\n",
      " [  0  12 127   9]\n",
      " [  0   0  11 144]]\n",
      "\n",
      "Classification Report:\n",
      "              precision    recall  f1-score   support\n",
      "\n",
      "           0       0.96      0.96      0.96       151\n",
      "           1       0.88      0.92      0.90       146\n",
      "           2       0.89      0.86      0.87       148\n",
      "           3       0.94      0.93      0.94       155\n",
      "\n",
      "    accuracy                           0.92       600\n",
      "   macro avg       0.92      0.92      0.92       600\n",
      "weighted avg       0.92      0.92      0.92       600\n",
      "\n",
      "============================================================\n",
      "GradientBoostingClassifier\n",
      "\n",
      "Accuracy Score: 88.66666666666667\n",
      "\n",
      "Confusion Matrix:\n",
      "[[141  10   0   0]\n",
      " [  7 129  10   0]\n",
      " [  0  13 122  13]\n",
      " [  0   0  15 140]]\n",
      "\n",
      "Classification Report:\n",
      "              precision    recall  f1-score   support\n",
      "\n",
      "           0       0.95      0.93      0.94       151\n",
      "           1       0.85      0.88      0.87       146\n",
      "           2       0.83      0.82      0.83       148\n",
      "           3       0.92      0.90      0.91       155\n",
      "\n",
      "    accuracy                           0.89       600\n",
      "   macro avg       0.89      0.89      0.89       600\n",
      "weighted avg       0.89      0.89      0.89       600\n",
      "\n",
      "============================================================\n",
      "Linear Regression score:  0.9181733564712244\n",
      "============================================================\n"
     ]
    }
   ],
   "source": [
    "classifiers = [KNeighborsClassifier(),\n",
    "               GradientBoostingClassifier(random_state = 42)]\n",
    "\n",
    "for clfs in classifiers:\n",
    "    clfs.fit(X_train, y_train)\n",
    "    name = clfs.__class__.__name__\n",
    "    y_pred = clfs.predict(X_test)\n",
    "    print(\"=\" * 60)\n",
    "    print(name)\n",
    "    print()\n",
    "    print('Accuracy Score:', accuracy_score(y_test, y_pred) * 100)\n",
    "    print()\n",
    "    print('Confusion Matrix:')\n",
    "    print(confusion_matrix(y_test, y_pred))\n",
    "    print()\n",
    "    print('Classification Report:')\n",
    "    print(classification_report(y_test, y_pred))\n",
    "\n",
    "print(\"=\" * 60)\n",
    "print(\"Linear Regression score: \", lin_reg.score(X_test, y_test))\n",
    "print(\"=\" * 60)"
   ]
  },
  {
   "cell_type": "markdown",
   "metadata": {},
   "source": [
    "## 10 Fold Cross Validation - Optimizing for F1-Score"
   ]
  },
  {
   "cell_type": "code",
   "execution_count": 44,
   "metadata": {},
   "outputs": [],
   "source": [
    "# # classifier = [KNeighborsClassifier(n_jobs = -1),\n",
    "# #               RandomForestClassifier(n_jobs = -1),\n",
    "# #               GradientBoostingClassifier()]\n",
    "\n",
    "# classifier = [RandomForestClassifier(n_jobs = -1)]\n",
    "\n",
    "# knc_grid = {\n",
    "#     'n_neighbors' : [None, 5, 10, 20, 40],\n",
    "#     'algorithm' : ['auto', 'ball_tree', 'kd_tree', 'brute'],\n",
    "#     'leaf_size' : [None, 5, 10, 20, 30, 50],\n",
    "#     'metric' : ['euclidean', 'manhattan', 'chebyshev', 'minkowski']\n",
    "# }\n",
    "\n",
    "# rfc_grid = {\n",
    "#     'n_estimators' : [50, 75, 100, 125, 150],\n",
    "#     'max_depth' : [None, 25, 50, 75, 100],\n",
    "#     'min_samples_split' : [2, 4, 6, 8, 10],\n",
    "#     'random_state' : [42]\n",
    "# }\n",
    "# #     'criterion' : ['gini', 'entropy'],\n",
    "\n",
    "# gbc_grid = {\n",
    "#     'loss' : ['deviance', 'exponential'],\n",
    "#     'n_estimators' : [50, 75, 100, 125, 150],\n",
    "#     'criterion' : ['friedman_mse', 'mse', 'mae'],\n",
    "#     'max_depth' : [None, 3, 6, 12, 24],\n",
    "#     'min_samples_split' : [2, 4, 6, 8, 10],\n",
    "#     'max_features' : [None, 'auto', 'sqrt', 'log2'],\n",
    "#     'random_state' : [42]\n",
    "# }\n",
    "\n",
    "# # param_grid_list = [knc_grid, rfc_grid, gbc_grid]\n",
    "# param_grid_list = [rfc_grid]\n",
    "\n",
    "# i = 0\n",
    "# for clf in classifier:\n",
    "\n",
    "#     gscv = GridSearchCV(estimator = clf, param_grid = param_grid_list[i], scoring = None, cv = 10)\n",
    "#     gscv.fit(X_train, y_train)\n",
    "#     i += 1\n",
    "\n",
    "#     print('Model name:', clf.__class__.__name__)\n",
    "#     print()\n",
    "#     print('Best params:', gscv.best_params_)\n",
    "#     print()\n",
    "#     y_pred = gscv.predict(X_test)\n",
    "#     print('10 Fold Cross Validation Accuracy Score:', gscv.score(X_test, y_test) * 100)\n",
    "#     print()\n",
    "#     print('Optimized F1-Score:', f1_score(y_test, y_pred) * 100)\n",
    "#     print()\n",
    "#     print('Confusion matrix:')\n",
    "#     print(confusion_matrix(y_test, y_pred))\n",
    "#     print()\n",
    "#     print('Classification report:')\n",
    "#     print(classification_report(y_test, y_pred))\n",
    "#     print('=' * 60)"
   ]
  }
 ],
 "metadata": {
  "kernelspec": {
   "display_name": "Python 3.7.4 64-bit ('base': conda)",
   "language": "python",
   "name": "python37464bitbasecondab77f3abe64734599a4df843710c17026"
  },
  "language_info": {
   "codemirror_mode": {
    "name": "ipython",
    "version": 3
   },
   "file_extension": ".py",
   "mimetype": "text/x-python",
   "name": "python",
   "nbconvert_exporter": "python",
   "pygments_lexer": "ipython3",
   "version": "3.7.4"
  }
 },
 "nbformat": 4,
 "nbformat_minor": 4
}
